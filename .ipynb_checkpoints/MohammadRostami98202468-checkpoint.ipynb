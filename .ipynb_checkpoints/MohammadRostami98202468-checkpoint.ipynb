{
 "cells": [
  {
   "cell_type": "markdown",
   "metadata": {},
   "source": [
    "# Some Notes\n",
    "\n",
    "I tried to explain everything clearly and also commented as much as I could so the code would be more coherent, I also have added plots and log so debugging and troubleshooting would be easier. I also took extra steps explaining in short some aspects of Jupiter Notebook.\n",
    "\n",
    "<h1 id=\"getting-started-with-jupyterlab\">Getting started with JupyterLab</h1>\n",
    "\n",
    "<h3 id=\"installation\">Installation</h3>\n",
    "\n",
    "<p>JupyterLab can be installed using <code class=\"language-plaintext highlighter-rouge\">conda</code> or <code class=\"language-plaintext highlighter-rouge\">pip</code>. For more detailed instructions, consult the <a href=\"https://jupyterlab.readthedocs.io/en/stable/getting_started/installation.html\">installation guide</a>.</p>\n",
    "\n",
    "<h3 id=\"conda\">conda</h3>\n",
    "\n",
    "<p>If you use <code class=\"language-plaintext highlighter-rouge\">conda</code>, you can install it with:</p>\n",
    "\n",
    "<div class=\"language-shell highlighter-rouge\"><div class=\"highlight\"><pre class=\"highlight\"><code>conda <span class=\"nb\">install</span> <span class=\"nt\">-c</span> conda-forge jupyterlab\n",
    "</code></pre></div></div>\n",
    "\n",
    "<h3 id=\"pip\">pip</h3>\n",
    "\n",
    "<p>If you use <code class=\"language-plaintext highlighter-rouge\">pip</code>, you can install it with:</p>\n",
    "\n",
    "<div class=\"language-shell highlighter-rouge\"><div class=\"highlight\"><pre class=\"highlight\"><code>pip <span class=\"nb\">install </span>jupyterlab\n",
    "</code></pre></div></div>\n",
    "\n",
    "<p>If installing using <code class=\"language-plaintext highlighter-rouge\">pip install --user</code>, you must add the user-level <code class=\"language-plaintext highlighter-rouge\">bin</code> directory to your <code class=\"language-plaintext highlighter-rouge\">PATH</code> environment variable in order to launch <code class=\"language-plaintext highlighter-rouge\">jupyter lab</code>.</p>\n",
    "\n",
    "<h2 id=\"getting-started-with-the-classic-jupyter-notebook\">Getting started with the classic Jupyter Notebook</h2>\n",
    "\n",
    "<h3 id=\"conda-1\">conda</h3>\n",
    "\n",
    "<p>We recommend installing the classic Jupyter Notebook using the conda package manager.</p>\n",
    "<p> Either the <a href=\"https://docs.conda.io/en/latest/miniconda.html\">miniconda</a> or the <a href=\"https://github.com/conda-forge/miniforge/\">miniforge</a> conda distributions include a minimal conda installation.</p>\n",
    "\n",
    "<p>Then you can install the notebook with:</p>\n",
    "\n",
    "<div class=\"language-shell highlighter-rouge\"><div class=\"highlight\"><pre class=\"highlight\"><code>conda <span class=\"nb\">install</span> <span class=\"nt\">-c</span> conda-forge notebook\n",
    "</code></pre></div></div>\n",
    "\n",
    "<h3 id=\"pip-1\">pip</h3>\n",
    "\n",
    "<p>If you use <code class=\"language-plaintext highlighter-rouge\">pip</code>, you can install it with:</p>\n",
    "\n",
    "<div class=\"language-shell highlighter-rouge\"><div class=\"highlight\"><pre class=\"highlight\"><code>pip <span class=\"nb\">install </span>notebook\n",
    "</code></pre></div></div>\n",
    "\n",
    "<p>Congratulations, you have installed Jupyter Notebook! </p>\n",
    "<p>To run the notebook, run the following command at the Terminal (Mac/Linux) or Command Prompt (Windows):</p>\n",
    "\n",
    "<div class=\"language-bash highlighter-rouge\"><div class=\"highlight\"><pre class=\"highlight\"><code>jupyter notebook\n",
    "</code></pre></div></div>\n",
    "\n",
    "<p>See <a href=\"https://jupyter.readthedocs.io/en/latest/running.html#running\">Running the Notebook</a> for more details.</p>\n",
    "\n",
    "<h2 id=\"getting-started-with-voilà\">Getting started with Voilà</h2>\n",
    "\n",
    "<h3 id=\"installation-1\">Installation</h3>\n",
    "\n",
    "<p>Voilà can be installed using <code class=\"language-plaintext highlighter-rouge\">conda</code> or <code class=\"language-plaintext highlighter-rouge\">pip</code>. For more detailed instructions, consult the <a href=\"https://voila.readthedocs.io/en/stable/install.html\">installation guide</a>.</p>\n",
    "\n",
    "<h3 id=\"conda-2\">conda</h3>\n",
    "\n",
    "<p>If you use <code class=\"language-plaintext highlighter-rouge\">conda</code>, you can install it with:</p>\n",
    "\n",
    "<div class=\"language-shell highlighter-rouge\"><div class=\"highlight\"><pre class=\"highlight\"><code>conda <span class=\"nb\">install</span> <span class=\"nt\">-c</span> conda-forge voila\n",
    "</code></pre></div></div>\n",
    "\n",
    "<h3 id=\"pip-2\">pip</h3>\n",
    "\n",
    "<p>If you use <code class=\"language-plaintext highlighter-rouge\">pip</code>, you can install it with:</p>\n",
    "\n",
    "<div class=\"language-shell highlighter-rouge\"><div class=\"highlight\"><pre class=\"highlight\"><code>pip <span class=\"nb\">install </span>voila\n",
    "</code></pre></div></div>\n",
    "\n",
    "      </div>"
   ]
  },
  {
   "cell_type": "markdown",
   "metadata": {},
   "source": [
    "## Quick note about Jupyter cells\n",
    "\n",
    "When you are editing a cell in Jupyter notebook, you need to re-run the cell by pressing **`<Shift> + <Enter>`**. This will allow changes you made to be available to other cells.\n",
    "\n",
    "Use **`<Enter>`** to make new lines inside a cell you are editing.\n",
    "\n",
    "#### Code cells\n",
    "\n",
    "Re-running will execute any statements you have written. To edit an existing code cell, click on it.\n",
    "\n",
    "#### Markdown cells\n",
    "\n",
    "Re-running will render the markdown text. To edit an existing markdown cell, double-click on it.\n",
    "\n",
    "## Common Jupyter operations\n",
    "\n",
    "Near the top of the https://try.jupyter.org page, Jupyter provides a row of menu options (`File`, `Edit`, `View`, `Insert`, ...) and a row of tool bar icons (disk, plus sign, scissors, 2 files, clipboard and file, up arrow, ...).\n",
    "\n",
    "#### Inserting and removing cells\n",
    "\n",
    "- Use the \"plus sign\" icon to insert a cell below the currently selected cell\n",
    "- Use \"Insert\" -> \"Insert Cell Above\" from the menu to insert above\n",
    "\n",
    "#### Clear the output of all cells\n",
    "\n",
    "- Use \"Kernel\" -> \"Restart\" from the menu to restart the kernel\n",
    "    - click on \"clear all outputs & restart\" to have all the output cleared\n",
    "\n",
    "#### Save your notebook file locally\n",
    "\n",
    "- Clear the output of all cells\n",
    "- Use \"File\" -> \"Download as\" -> \"IPython Notebook (.ipynb)\" to download a notebook file representing your https://try.jupyter.org session\n",
    "\n",
    "#### Load your notebook file in try.jupyter.org\n",
    "\n",
    "1. Visit https://try.jupyter.org\n",
    "2. Click the \"Upload\" button near the upper right corner\n",
    "3. Navigate your filesystem to find your `*.ipynb` file and click \"open\"\n",
    "4. Click the new \"upload\" button that appears next to your file name\n",
    "5. Click on your uploaded notebook file"
   ]
  },
  {
   "cell_type": "markdown",
   "metadata": {},
   "source": [
    "## Necessary Modules"
   ]
  },
  {
   "cell_type": "code",
   "execution_count": 3,
   "metadata": {},
   "outputs": [],
   "source": [
    "import numpy as np\n",
    "import random\n",
    "\n",
    "# for inline plots in jupyter\n",
    "%matplotlib inline\n",
    "# import matplotlib\n",
    "import matplotlib.pyplot as plt\n",
    "# for latex equations\n",
    "from IPython.display import Math, Latex\n",
    "# for displaying images\n",
    "from IPython.core.display import Image\n",
    "# import seaborn\n",
    "import seaborn as sns\n",
    "# settings for seaborn plotting style\n",
    "sns.set(color_codes=True)\n",
    "# settings for seaborn plot sizes\n",
    "sns.set(rc={'figure.figsize':(5,5)})\n",
    "# finding min and max of functions\n",
    "from scipy.optimize import fminbound\n",
    "# makeing Dataframe\n",
    "import pandas as pd\n",
    "# for showing progress\n",
    "from tqdm import tqdm"
   ]
  },
  {
   "cell_type": "code",
   "execution_count": 2,
   "metadata": {},
   "outputs": [
    {
     "name": "stdout",
     "output_type": "stream",
     "text": [
      "Requirement already satisfied: numpy in c:\\python37\\lib\\site-packages (from -r requirements.txt (line 1)) (1.19.1)\n",
      "Collecting matplotlib\n",
      "  Downloading matplotlib-3.3.1-1-cp37-cp37m-win_amd64.whl (8.9 MB)\n",
      "Collecting seaborn\n",
      "  Using cached seaborn-0.10.1-py3-none-any.whl (215 kB)\n",
      "Collecting scipy\n",
      "  Using cached scipy-1.5.2-cp37-cp37m-win_amd64.whl (31.2 MB)\n",
      "Requirement already satisfied: pandas in c:\\python37\\lib\\site-packages (from -r requirements.txt (line 5)) (1.1.1)\n",
      "Collecting tqdm\n",
      "  Using cached tqdm-4.48.2-py2.py3-none-any.whl (68 kB)\n",
      "Collecting kiwisolver>=1.0.1\n",
      "  Using cached kiwisolver-1.2.0-cp37-none-win_amd64.whl (57 kB)\n",
      "Requirement already satisfied: pyparsing!=2.0.4,!=2.1.2,!=2.1.6,>=2.0.3 in c:\\python37\\lib\\site-packages (from matplotlib->-r requirements.txt (line 2)) (2.4.7)\n",
      "Requirement already satisfied: python-dateutil>=2.1 in c:\\python37\\lib\\site-packages (from matplotlib->-r requirements.txt (line 2)) (2.8.1)\n",
      "Collecting certifi>=2020.06.20\n",
      "  Using cached certifi-2020.6.20-py2.py3-none-any.whl (156 kB)\n",
      "Collecting pillow>=6.2.0\n",
      "  Using cached Pillow-7.2.0-cp37-cp37m-win_amd64.whl (2.1 MB)\n",
      "Collecting cycler>=0.10\n",
      "  Using cached cycler-0.10.0-py2.py3-none-any.whl (6.5 kB)\n",
      "Requirement already satisfied: pytz>=2017.2 in c:\\python37\\lib\\site-packages (from pandas->-r requirements.txt (line 5)) (2020.1)\n",
      "Requirement already satisfied: six>=1.5 in c:\\python37\\lib\\site-packages (from python-dateutil>=2.1->matplotlib->-r requirements.txt (line 2)) (1.15.0)\n",
      "Installing collected packages: kiwisolver, certifi, pillow, cycler, matplotlib, scipy, seaborn, tqdm\n",
      "Successfully installed certifi-2020.6.20 cycler-0.10.0 kiwisolver-1.2.0 matplotlib-3.3.1 pillow-7.2.0 scipy-1.5.2 seaborn-0.10.1 tqdm-4.48.2\n"
     ]
    }
   ],
   "source": [
    "# for installing packages in jupyter notebook or idle\n",
    "import sys\n",
    "!{sys.executable} -m pip install -r requirements.txt"
   ]
  },
  {
   "cell_type": "markdown",
   "metadata": {},
   "source": [
    "## Chapter 4"
   ]
  },
  {
   "cell_type": "markdown",
   "metadata": {},
   "source": [
    "### Question 4\n",
    "A deck of 100 cards—numbered 1, 2,..., 100—is shuffled and then turned\n",
    "over one card at a time. Say that a “hit” occurs whenever card i is the ith card\n",
    "to be turned over, i = 1,..., 100. Write a simulation program to estimate the\n",
    "expectation and variance of the total number of hits. Run the program. Find\n",
    "the exact answers and compare them with your estimates.\n"
   ]
  },
  {
   "cell_type": "markdown",
   "metadata": {},
   "source": [
    "### Solution:\n",
    "First we will make a function that counts the number of hits in one go and repeat it to compute the average and variance of it."
   ]
  },
  {
   "cell_type": "code",
   "execution_count": 3,
   "metadata": {},
   "outputs": [],
   "source": [
    "def simCard(nsim,ncard):\n",
    "    cards=list(range(ncard))\n",
    "    number_of_hits=[]\n",
    "    for i in range(nsim):\n",
    "        random.shuffle(cards)\n",
    "        hits=[ 1 if x==y else 0 for (x,y) in zip(cards, range(ncard))]\n",
    "        number_of_hits.append(sum(hits))\n",
    "    return number_of_hits"
   ]
  },
  {
   "cell_type": "code",
   "execution_count": 26,
   "metadata": {},
   "outputs": [
    {
     "data": {
      "text/plain": [
       "[0, 1, 1, 2, 2, 1, 3, 1, 0, 2]"
      ]
     },
     "execution_count": 26,
     "metadata": {},
     "output_type": "execute_result"
    }
   ],
   "source": [
    "simCard(10,10)"
   ]
  },
  {
   "cell_type": "code",
   "execution_count": 27,
   "metadata": {},
   "outputs": [
    {
     "name": "stdout",
     "output_type": "stream",
     "text": [
      "0.998817 0.9994316005110004\n"
     ]
    }
   ],
   "source": [
    "hits=simCard(10**6,100)    # 10 to the power of 6\n",
    "print(np.mean(hits),np.var(hits))"
   ]
  },
  {
   "cell_type": "markdown",
   "metadata": {},
   "source": [
    "### Question 7 \n",
    "A pair of fair dice are to be continually rolled until all the possible outcomes\n",
    "2, 3,..., 12 have occurred at least once. Develop a simulation study to estimate\n",
    "the expected number of dice rolls that are needed."
   ]
  },
  {
   "cell_type": "markdown",
   "metadata": {},
   "source": [
    "### Solution:\n",
    "Again we first make a sim that does this and find the expected average."
   ]
  },
  {
   "cell_type": "code",
   "execution_count": 51,
   "metadata": {},
   "outputs": [],
   "source": [
    "def simDice(nsim):\n",
    "    total=0\n",
    "    for i in range(nsim):\n",
    "        outcomes=list(range(2,13))\n",
    "        counter=0\n",
    "        while outcomes!=[]:\n",
    "            sumDice=random.randint(1,6)+random.randint(1,6)\n",
    "#             print((sumDice,outcomes), end=', ')\n",
    "            if sumDice in outcomes:outcomes.remove(sumDice)\n",
    "            counter+=1\n",
    "        total+=counter\n",
    "    return total/nsim"
   ]
  },
  {
   "cell_type": "code",
   "execution_count": 52,
   "metadata": {},
   "outputs": [
    {
     "data": {
      "text/plain": [
       "61.128691"
      ]
     },
     "execution_count": 52,
     "metadata": {},
     "output_type": "execute_result"
    }
   ],
   "source": [
    "simDice(10**6)"
   ]
  },
  {
   "cell_type": "markdown",
   "metadata": {},
   "source": [
    "### Question 16\n",
    "Suppose that the random variable X can take on any of the values 1,..., 10\n",
    "with respective probabilities 0.06, 0.06, 0.06, 0.06, 0.06, 0.15, 0.13, 0.14, 0.15,\n",
    "0.13. Use the composition approach to give an algorithm that generates the\n",
    "value of X. Use the text’s random number sequence to generate X."
   ]
  },
  {
   "cell_type": "markdown",
   "metadata": {},
   "source": [
    "### Solution:\n",
    "We are trying to make $X$ using $Y$, $Z$ in a way that $P_X=\\alpha P_Y + (1-\\alpha) P_Z$, Im going to use uniform dist. as Y so $\\alpha=0.6$, and $Z$ is what it's left, also we're gonig to use 0,...,9 instead of 1,...,10 for convenience."
   ]
  },
  {
   "cell_type": "code",
   "execution_count": 57,
   "metadata": {},
   "outputs": [
    {
     "name": "stdout",
     "output_type": "stream",
     "text": [
      "[0.0, 0.0, 0.0, 0.0, 0.0, 0.22499999999999998, 0.17500000000000002, 0.20000000000000004, 0.22499999999999998, 0.17500000000000002]\n"
     ]
    }
   ],
   "source": [
    "Px=[0.06, 0.06, 0.06, 0.06, 0.06, 0.15, 0.13, 0.14, 0.15, 0.13]\n",
    "Py=[0.06]*10\n",
    "Pz=[(x-y)/0.4 for (x,y) in zip(Px, Py)]\n",
    "print(Pz)"
   ]
  },
  {
   "cell_type": "code",
   "execution_count": 2,
   "metadata": {},
   "outputs": [],
   "source": [
    "def generateZ():\n",
    "    Pz=[0.225, 0.175, 0.2, 0.225, 0.175]\n",
    "    z=[5,6,7,8,9]\n",
    "    return np.random.choice(z,p=Pz)\n",
    "\n",
    "def generateY():\n",
    "    return random.randint(0,9)\n",
    "\n",
    "def generateX():\n",
    "    condition=random.random()\n",
    "    if condition >=0.6:\n",
    "       return generateZ()\n",
    "    return generateY()"
   ]
  },
  {
   "cell_type": "code",
   "execution_count": 3,
   "metadata": {},
   "outputs": [
    {
     "name": "stderr",
     "output_type": "stream",
     "text": [
      "100%|███████████████████████████████████████████████████████████████████████| 100000/100000 [00:02<00:00, 35247.14it/s]\n"
     ]
    }
   ],
   "source": [
    "data = [generateX() for i in tqdm(range(10**5))] # 10 to the power of 6"
   ]
  },
  {
   "cell_type": "code",
   "execution_count": 203,
   "metadata": {},
   "outputs": [
    {
     "data": {
      "text/plain": [
       "[Text(0.5, 0, 'X Distribution'),\n",
       " Text(0, 0.5, 'Probability'),\n",
       " [<matplotlib.axis.XTick at 0x2490f694c08>,\n",
       "  <matplotlib.axis.XTick at 0x2490f7f4908>,\n",
       "  <matplotlib.axis.XTick at 0x2490f7f0e08>,\n",
       "  <matplotlib.axis.XTick at 0x24910810b08>,\n",
       "  <matplotlib.axis.XTick at 0x24910814388>,\n",
       "  <matplotlib.axis.XTick at 0x24910814d48>,\n",
       "  <matplotlib.axis.XTick at 0x249108198c8>,\n",
       "  <matplotlib.axis.XTick at 0x2491081c4c8>,\n",
       "  <matplotlib.axis.XTick at 0x2491081f108>,\n",
       "  <matplotlib.axis.XTick at 0x2491081f888>]]"
      ]
     },
     "execution_count": 203,
     "metadata": {},
     "output_type": "execute_result"
    },
    {
     "data": {
      "image/png": "[encoded data removed]",
      "text/plain": [
       "<Figure size 360x360 with 1 Axes>"
      ]
     },
     "metadata": {},
     "output_type": "display_data"
    }
   ],
   "source": [
    "ax= sns.distplot(data,\n",
    "                 bins=10,\n",
    "                 kde=False,\n",
    "                 color=\"skyblue\",\n",
    "                 hist=True,\n",
    "                 hist_kws={\"density\":True, \"linewidth\": 15,'alpha':1},\n",
    "                 norm_hist=True)\n",
    "\n",
    "ax.set(xlabel='X Distribution', ylabel='Probability', xticks=range(10))"
   ]
  },
  {
   "cell_type": "markdown",
   "metadata": {},
   "source": [
    "### Question 21\n",
    "Set up the alias method for generating a binomial with parameters (5, 0.4)"
   ]
  },
  {
   "cell_type": "markdown",
   "metadata": {},
   "source": [
    "### Solution:\n",
    "First we will calculate $(P_0,P_1,P_2,P_3,P_4,P_5)$"
   ]
  },
  {
   "cell_type": "code",
   "execution_count": 3,
   "metadata": {},
   "outputs": [],
   "source": [
    "from scipy.stats import binom\n",
    "data_binom = binom.rvs(n=5,p=0.4,size=10**6)"
   ]
  },
  {
   "cell_type": "code",
   "execution_count": 292,
   "metadata": {},
   "outputs": [
    {
     "data": {
      "text/plain": [
       "[Text(0.5, 0, 'Binomial Distribution'), Text(0, 0.5, 'Probability')]"
      ]
     },
     "execution_count": 292,
     "metadata": {},
     "output_type": "execute_result"
    },
    {
     "data": {
      "image/png": "[encoded data removed]",
      "text/plain": [
       "<Figure size 360x360 with 1 Axes>"
      ]
     },
     "metadata": {},
     "output_type": "display_data"
    }
   ],
   "source": [
    "ax = sns.distplot(data_binom,\n",
    "                  bins=5,\n",
    "                  kde=False,\n",
    "                  color=\"skyblue\",\n",
    "                  hist=True,\n",
    "                  hist_kws={\"density\":True, \"linewidth\": 15,'alpha':1},\n",
    "                  norm_hist=True)\n",
    "ax.set(xlabel='Binomial Distribution', ylabel='Probability')"
   ]
  },
  {
   "cell_type": "code",
   "execution_count": 4,
   "metadata": {},
   "outputs": [
    {
     "name": "stdout",
     "output_type": "stream",
     "text": [
      "0.07776, 0.2591999999999999, 0.3455999999999999, 0.2304, 0.07680000000000001, 0.010240000000000008, "
     ]
    },
    {
     "data": {
      "text/plain": [
       "0.9999999999999998"
      ]
     },
     "execution_count": 4,
     "metadata": {},
     "output_type": "execute_result"
    }
   ],
   "source": [
    "for k in range(6):\n",
    "    print(#\"p{0}=\".format(k)+\n",
    "        str(binom.pmf(k, 5, 0.4, loc=0)), end=\", \")\n",
    "psum=0\n",
    "\n",
    "for k in range(6):\n",
    "    psum+=binom.pmf(k, 5, 0.4, loc=0)\n",
    "\n",
    "psum"
   ]
  },
  {
   "cell_type": "markdown",
   "metadata": {},
   "source": [
    "For more convenience, We will round them up to the following:"
   ]
  },
  {
   "cell_type": "code",
   "execution_count": 262,
   "metadata": {},
   "outputs": [
    {
     "data": {
      "text/plain": [
       "1.0"
      ]
     },
     "execution_count": 262,
     "metadata": {},
     "output_type": "execute_result"
    }
   ],
   "source": [
    "P=[0.07776,\n",
    "   0.2592,\n",
    "   0.3456,\n",
    "   0.2304,\n",
    "   0.0768, \n",
    "   0.01024]\n",
    "sum(P)"
   ]
  },
  {
   "cell_type": "markdown",
   "metadata": {},
   "source": [
    "Now we have to make ${Q_0,Q_1,Q_2,Q_3,Q_4}$"
   ]
  },
  {
   "cell_type": "code",
   "execution_count": 12,
   "metadata": {},
   "outputs": [
    {
     "name": "stdout",
     "output_type": "stream",
     "text": [
      "p2= 0.15584000000000003\n",
      "p1= 0.13599999999999995\n",
      "p3= 0.10816\n",
      "p2= 0.06400000000000004\n",
      "p1= 0.0\n"
     ]
    }
   ],
   "source": [
    "P=[0.07776, 0.2592, 0.3456, 0.2304, 0.0768, 0.01024]\n",
    "n=5\n",
    "\n",
    "def generateQ0():\n",
    "    condition=random.random()\n",
    "    if condition<=(P[5]*5):\n",
    "        return 5\n",
    "    else:\n",
    "        return 2\n",
    "\n",
    "# print(P[2]-(1-())/5)\n",
    "p2=P[2]-(1-P[5]*5)/5\n",
    "print(\"p2=\",p2)\n",
    "\n",
    "    \n",
    "def generateQ1():\n",
    "    condition=random.random()\n",
    "    if condition<=P[4]*5:\n",
    "        return 4\n",
    "    else:\n",
    "        return 1\n",
    "\n",
    "# print(P[1]-(1-())/5)\n",
    "p1=P[1]-(1-(P[4]*5))/5\n",
    "print(\"p1=\",p1)\n",
    "\n",
    "\n",
    "def generateQ2():\n",
    "    condition=random.random()\n",
    "    if condition<=(P[0]*5):\n",
    "        return 0\n",
    "    else:\n",
    "        return 3\n",
    "    \n",
    "# print(P[3]-(1-())/5)\n",
    "p3=P[3]-(1-P[0]*5)/5\n",
    "print('p3=',p3)\n",
    "\n",
    "def generateQ3():\n",
    "    condition=random.random()\n",
    "    if condition<=(p3*5):\n",
    "        return 3\n",
    "    else:\n",
    "        return 2\n",
    "\n",
    "# print(p2-(1-())/5)\n",
    "p2=p2-(1-p3*5)/5\n",
    "print('p2=',p2)\n",
    "    \n",
    "def generateQ4():\n",
    "    condition=random.random()\n",
    "    if condition<=(p2*5):\n",
    "        return 2\n",
    "    else:\n",
    "        return 1\n",
    "    \n",
    "# print(p1-(1-())/5)\n",
    "p1=p1-(1-p2*5)/5\n",
    "print('p1=',p1)"
   ]
  },
  {
   "cell_type": "code",
   "execution_count": 13,
   "metadata": {},
   "outputs": [],
   "source": [
    "def generateBinom():\n",
    "    condition=random.random()\n",
    "    if condition<=(1/5):\n",
    "        return generateQ0()\n",
    "    elif condition<=(2/5):\n",
    "        return generateQ1()\n",
    "    elif condition<=(3/5):\n",
    "        return generateQ2()\n",
    "    elif condition<=(4/5):\n",
    "        return generateQ3()\n",
    "    else:\n",
    "        return generateQ4()\n"
   ]
  },
  {
   "cell_type": "code",
   "execution_count": 22,
   "metadata": {
    "scrolled": false
   },
   "outputs": [],
   "source": [
    "data = [generateBinom() for i in range(10**6)] # 10 to the power of 6"
   ]
  },
  {
   "cell_type": "code",
   "execution_count": 303,
   "metadata": {},
   "outputs": [
    {
     "data": {
      "text/plain": [
       "[Text(0.5, 0, 'Binomial Distribution'), Text(0, 0.5, 'Probability')]"
      ]
     },
     "execution_count": 303,
     "metadata": {},
     "output_type": "execute_result"
    },
    {
     "data": {
      "image/png": "[encoded data removed]",
      "text/plain": [
       "<Figure size 360x360 with 1 Axes>"
      ]
     },
     "metadata": {},
     "output_type": "display_data"
    }
   ],
   "source": [
    "ax = sns.distplot(data,\n",
    "                  bins=5,\n",
    "                  kde=False,\n",
    "                  color=\"skyblue\",\n",
    "                  hist=True,\n",
    "                  hist_kws={\"density\":True, \"linewidth\": 15,'alpha':1},\n",
    "                  norm_hist=True)\n",
    "ax.set(xlabel='Binomial Distribution', ylabel='Probability')"
   ]
  },
  {
   "cell_type": "markdown",
   "metadata": {},
   "source": [
    "Making a function that makes $Q_i$ for every P?\n",
    "Just role with the function, I had to make the functions in the class in order to make functions in the loop"
   ]
  },
  {
   "cell_type": "code",
   "execution_count": 19,
   "metadata": {},
   "outputs": [],
   "source": [
    "class AliasMethod():\n",
    "    \n",
    "    def __init__(self,P):\n",
    "        assert sum(P)==1\n",
    "        self.P=P\n",
    "        self.n=len(self.P)-1\n",
    "        self.Q=self.make_q()\n",
    "        \n",
    "    def min(self,P):\n",
    "        temp= [i for i in P if i !='nan' ]\n",
    "        return min(temp)\n",
    "    \n",
    "    def max(self,P):\n",
    "        temp= [i for i in P if i !='nan' ]\n",
    "        return max(temp)\n",
    "    \n",
    "        \n",
    "    def make_q(self):\n",
    "        Temp_P=P[:]\n",
    "        Q=[]\n",
    "        for i in range(self.n):\n",
    "            p=self.min(Temp_P)\n",
    "            q=self.max(Temp_P)\n",
    "            index_p=Temp_P.index(p)\n",
    "            index_q=Temp_P.index(q)\n",
    "            \n",
    "            def tempQ(p=p,index_p=index_p,index_q=index_q):\n",
    "                condition=random.random()\n",
    "                if condition<=(p*self.n):\n",
    "                    return index_p\n",
    "                else:\n",
    "                    return index_q\n",
    "                \n",
    "            Q.append(tempQ)\n",
    "            # print(P[3]-(1-())/5)\n",
    "            \n",
    "            q=q-(1-(p*self.n))/self.n\n",
    "            Temp_P[index_q]=q\n",
    "            Temp_P[index_p]=\"nan\"\n",
    "            print(Temp_P)\n",
    "\n",
    "        return Q\n",
    "            \n",
    "    def generate(self):\n",
    "        condition=random.random()\n",
    "        for i in range(1,self.n+1):\n",
    "            if condition<=(i/self.n):\n",
    "                return self.Q[i-1]()"
   ]
  },
  {
   "cell_type": "code",
   "execution_count": 18,
   "metadata": {},
   "outputs": [
    {
     "name": "stdout",
     "output_type": "stream",
     "text": [
      "[0.07776, 0.2592, 0.15584000000000003, 0.2304, 0.0768, 'nan']\n",
      "[0.07776, 0.13599999999999995, 0.15584000000000003, 0.2304, 'nan', 'nan']\n",
      "['nan', 0.13599999999999995, 0.15584000000000003, 0.10816, 'nan', 'nan']\n",
      "['nan', 0.13599999999999995, 0.06400000000000004, 'nan', 'nan', 'nan']\n",
      "['nan', 0.0, 'nan', 'nan', 'nan', 'nan']\n"
     ]
    }
   ],
   "source": [
    "P=[0.07776, 0.2592, 0.3456, 0.2304, 0.0768, 0.01024]\n",
    "test=AliasMethod(P)"
   ]
  },
  {
   "cell_type": "code",
   "execution_count": 21,
   "metadata": {},
   "outputs": [],
   "source": [
    "data = [test.generate() for i in range(10**6)] # 10 to the power of 6"
   ]
  },
  {
   "cell_type": "code",
   "execution_count": 361,
   "metadata": {},
   "outputs": [
    {
     "data": {
      "text/plain": [
       "[Text(0.5, 0, 'Binomial Distribution'), Text(0, 0.5, 'Probability')]"
      ]
     },
     "execution_count": 361,
     "metadata": {},
     "output_type": "execute_result"
    },
    {
     "data": {
      "image/png": "[encoded data removed]",
      "text/plain": [
       "<Figure size 360x360 with 1 Axes>"
      ]
     },
     "metadata": {},
     "output_type": "display_data"
    }
   ],
   "source": [
    "ax = sns.distplot(data,\n",
    "                  bins=5,\n",
    "                  kde=False,\n",
    "                  color=\"skyblue\",\n",
    "                  hist=True,\n",
    "                  hist_kws={\"density\":True, \"linewidth\": 15,'alpha':1},\n",
    "                  norm_hist=True)\n",
    "ax.set(xlabel='Binomial Distribution', ylabel='Probability')"
   ]
  },
  {
   "cell_type": "markdown",
   "metadata": {},
   "source": [
    "## Chapter 5"
   ]
  },
  {
   "cell_type": "markdown",
   "metadata": {},
   "source": [
    "### Question 2\n",
    "Give a method to generate a random variable having density function\n",
    "\n",
    "$f(x)=\\left\\{\n",
    "                \\begin{array}{c}\n",
    "                  \\frac{x-2}{2} \\\\\n",
    "                  \\frac{2-\\frac{x}{3}}{2} \\\\\n",
    "                \\end{array}\n",
    "              \\right.\n",
    "              \\begin{array}{ll}\n",
    "                  2 \\leq x \\leq 3\\\\\n",
    "                  3 \\leq x \\leq 6\\\\\n",
    "                \\end{array}\n",
    "            $"
   ]
  },
  {
   "cell_type": "markdown",
   "metadata": {},
   "source": [
    "### Solution\n",
    "For $2 \\leq x \\leq 3$, $F(x) = \\int^x_2 f(t)dt =\\int^x_2 \\frac{t−2}{2}dt =( \\frac{x}{2}− 1)^2$.\n",
    "\n",
    "For $3 \\leq x \\leq 6$, $F(x) =\\int^x_2 f(t)dt =\\int^3_2 f(t)dt+\\int^x_3 \\frac{2−\\frac{t}{3}}{2}dt$ \n",
    "$=-\\frac{x^2}{12} + x - 2$ \n",
    "\n",
    "So\n",
    "\n",
    "$\n",
    "\\begin{align*}\n",
    "  F(x) = \\begin{cases}\n",
    "            \\frac{(x-2)^2}{4}, & 2\\le x\\le 3 \\\\\n",
    "            -\\frac{x^2}{12} + x - 2, & 3\\le x\\le 6\n",
    "        \\end{cases}\n",
    "\\end{align*}$\n",
    "\n",
    "then,\n",
    "\n",
    "$\\begin{align*}\n",
    "  F^{-1}(y) = \\begin{cases}\n",
    "                2(\\sqrt{y}+1), & 0\\le y\\le \\frac{1}{4}\\\\\n",
    "                6-2\\sqrt{3(1-y)}, & \\frac{1}{4}\\le y\\le 1\n",
    "              \\end{cases}\n",
    "\\end{align*}$\n",
    "\n",
    "In order to generate a random variable with the given density function, we first generate a uniform random\n",
    "variable $U$ over $(0, 1)$.\n",
    "\n",
    "If $U \\leq \\frac{1}{4}$,\n",
    "\n",
    "We set $X = 2(\\sqrt{U}+1)$; \n",
    "\n",
    "if $U>\\frac{1}{4}$, \n",
    "\n",
    "We set $X = 6-2\\sqrt{3(1-U)}$.\n",
    "\n"
   ]
  },
  {
   "cell_type": "code",
   "execution_count": 5,
   "metadata": {},
   "outputs": [],
   "source": [
    "def generatef():\n",
    "    U=random.random()\n",
    "    if U<=1/4:\n",
    "        return 2*(np.sqrt(U)+1)\n",
    "    else:\n",
    "        return 6-2*np.sqrt(3*(1-U))"
   ]
  },
  {
   "cell_type": "code",
   "execution_count": 28,
   "metadata": {},
   "outputs": [],
   "source": [
    "data = [generatef() for i in range(10**6)] # 10 to the power of 6"
   ]
  },
  {
   "cell_type": "code",
   "execution_count": 29,
   "metadata": {},
   "outputs": [
    {
     "data": {
      "text/plain": [
       "[Text(0.5, 0, 'CDF'), Text(0, 0.5, 'Value')]"
      ]
     },
     "execution_count": 29,
     "metadata": {},
     "output_type": "execute_result"
    },
    {
     "data": {
      "image/png": "[encoded data removed]",
      "text/plain": [
       "<Figure size 360x360 with 1 Axes>"
      ]
     },
     "metadata": {},
     "output_type": "display_data"
    }
   ],
   "source": [
    "ax = sns.distplot(data,\n",
    "                  kde=False,\n",
    "                  color=\"green\",\n",
    "                  hist=True,\n",
    "                  hist_kws={\"density\":True, \"linewidth\": 2,'alpha':1,'cumulative':True},\n",
    "                  norm_hist=False)\n",
    "ax.set(xlabel='CDF', ylabel='Value')"
   ]
  },
  {
   "cell_type": "markdown",
   "metadata": {},
   "source": [
    "### Question 8\n",
    "Using the result of Exercise 7, give algorithms for generating random variables from the following distributions.\n",
    "\n",
    "(a) $F(x) = \\frac{x+x3+x5}{3}$,$0 \\leq x \\leq 1$\n",
    "\n",
    "(b) $F(x)= \\left\\{\n",
    "                \\begin{array}{c}\n",
    "                  \\frac{1-e^{-2x}+2x}{3} \\\\\n",
    "                  \\frac{3-e^{-2x}}{3} \\\\\n",
    "                 \\end{array}\n",
    "              \\right.\n",
    "              \\begin{array}{ll}\n",
    "                  0 < x < 1\\\\\n",
    "                  1 < x < \\infty \\\\\n",
    "               \\end{array}$\n",
    "            \n",
    "(c) $F(x) = \\sum^n_{i=1} \\alpha_i x^i$, $0 < x < 1$, where $\\alpha_i\\geq 0$, $\\sum^n_{i=1}\\alpha_i=1$"
   ]
  },
  {
   "cell_type": "markdown",
   "metadata": {},
   "source": [
    "### Solution:\n",
    "(a) $F_1(x) = x$, $F_2(x) = x^3$, $F_3(x) = x^5$ $\\longrightarrow$ $F(x)=\\frac{1}{3}(F_1(x)+F_2(x)+F_3(x))$"
   ]
  },
  {
   "cell_type": "code",
   "execution_count": 10,
   "metadata": {},
   "outputs": [],
   "source": [
    "def generateFa():\n",
    "    condition=random.random()\n",
    "    if condition<=1/3:\n",
    "        return random.random()\n",
    "    elif condition<=2/3:\n",
    "        return random.random()**(1/3)\n",
    "    else:\n",
    "        return random.random()**(1/5)"
   ]
  },
  {
   "cell_type": "code",
   "execution_count": 32,
   "metadata": {},
   "outputs": [],
   "source": [
    "data = [generateFa() for i in range(10**6)] # 10 to the power of 6"
   ]
  },
  {
   "cell_type": "code",
   "execution_count": 33,
   "metadata": {},
   "outputs": [
    {
     "data": {
      "text/plain": [
       "[Text(0.5, 0, 'CDF'), Text(0, 0.5, 'Value')]"
      ]
     },
     "execution_count": 33,
     "metadata": {},
     "output_type": "execute_result"
    },
    {
     "data": {
      "image/png": "[encoded data removed]",
      "text/plain": [
       "<Figure size 360x360 with 1 Axes>"
      ]
     },
     "metadata": {},
     "output_type": "display_data"
    }
   ],
   "source": [
    "ax = sns.distplot(data,\n",
    "                  kde=False,\n",
    "                  color=\"green\",\n",
    "                  hist=True,\n",
    "                  hist_kws={\"density\":True, \"linewidth\": 2,'alpha':1,'cumulative':True},\n",
    "                  norm_hist=False)\n",
    "ax.set(xlabel='CDF', ylabel='Value')"
   ]
  },
  {
   "cell_type": "markdown",
   "metadata": {},
   "source": [
    "(b) we would make \n",
    "\n",
    "$\\begin{align*}\n",
    "  F_1(x) &= 1-e^{-2x},\\;\\; 0< x< \\infty\\\\\n",
    "  F_2(x) &= \\begin{cases}\n",
    "              x, & 0< x< 1\\\\\n",
    "              1, & 1\\le x<\\infty\n",
    "            \\end{cases}\\\\\n",
    "\\end{align*}$\n",
    "  \n",
    "So, \n",
    "\n",
    "$F(x)=\\frac{1}{3}F_1(x)+\\frac{2}{3}F_2(x)$\n",
    "\n",
    "then,\n",
    "\n",
    "$F_1^{-1}(y)=-\\frac{1}{2}\\ln{y}$,\n",
    "\n",
    "$F_2^{-1}(y)= y$\n"
   ]
  },
  {
   "cell_type": "code",
   "execution_count": 8,
   "metadata": {},
   "outputs": [],
   "source": [
    "def generateFb():\n",
    "    condition=random.random()\n",
    "    if condition<=1/3:\n",
    "        return -0.5*np.log(random.random())\n",
    "    else:\n",
    "        return random.random()"
   ]
  },
  {
   "cell_type": "code",
   "execution_count": 30,
   "metadata": {},
   "outputs": [],
   "source": [
    "data = [generateFb() for i in range(10**6)] # 10 to the power of 6"
   ]
  },
  {
   "cell_type": "code",
   "execution_count": 31,
   "metadata": {},
   "outputs": [
    {
     "data": {
      "text/plain": [
       "[Text(0.5, 0, 'CDF'), Text(0, 0.5, 'Value')]"
      ]
     },
     "execution_count": 31,
     "metadata": {},
     "output_type": "execute_result"
    },
    {
     "data": {
      "image/png": "[encoded data removed]",
      "text/plain": [
       "<Figure size 360x360 with 1 Axes>"
      ]
     },
     "metadata": {},
     "output_type": "display_data"
    }
   ],
   "source": [
    "ax = sns.distplot(data,\n",
    "                  kde=False,\n",
    "                  color=\"green\",\n",
    "                  hist=True,\n",
    "                  hist_kws={\"density\":True, \"linewidth\": 2,'alpha':1,'cumulative':True},\n",
    "                  norm_hist=False)\n",
    "ax.set(xlabel='CDF', ylabel='Value')"
   ]
  },
  {
   "cell_type": "markdown",
   "metadata": {},
   "source": [
    "(C) Since we know how F is we just write the function"
   ]
  },
  {
   "cell_type": "code",
   "execution_count": 6,
   "metadata": {},
   "outputs": [],
   "source": [
    "def generateFc(alpha):\n",
    "    for i in alpha: assert i>=0\n",
    "    assert sum(alpha)==1\n",
    "    condition=random.random()\n",
    "    n=len(alpha)\n",
    "    for i in range(1,n+1):\n",
    "        if condition <= i/n:\n",
    "            return random.random()**(1/(i+1))"
   ]
  },
  {
   "cell_type": "markdown",
   "metadata": {},
   "source": [
    "### Question 13"
   ]
  },
  {
   "cell_type": "markdown",
   "metadata": {},
   "source": [
    "Using the rejection method and the results of Exercise 12, give two other\n",
    "methods, aside from the inverse transform method, that can be used to generate\n",
    "a random variable having distribution function\n",
    "$F(x) = x^n$\n",
    ", $0 \\leq x \\leq 1$"
   ]
  },
  {
   "cell_type": "markdown",
   "metadata": {},
   "source": [
    "### Solution:\n",
    "We Know that $F(x) \\leq G(x)=x^{n-1}\\leq x$ So `C=1`"
   ]
  },
  {
   "cell_type": "code",
   "execution_count": 34,
   "metadata": {},
   "outputs": [],
   "source": [
    "def generateF13a(n):\n",
    "    while True:\n",
    "        Y=random.random()**(1/(n-1))\n",
    "        condition=random.random()\n",
    "        if condition<=Y:  # F(y)/G(y)=y^n/y^{n-1}=y\n",
    "            return Y"
   ]
  },
  {
   "cell_type": "code",
   "execution_count": 35,
   "metadata": {},
   "outputs": [],
   "source": [
    "data = [generateF13a(10) for i in range(10**6)] # 10 to the power of 6"
   ]
  },
  {
   "cell_type": "code",
   "execution_count": 41,
   "metadata": {},
   "outputs": [
    {
     "data": {
      "text/plain": [
       "[Text(0.5, 0, 'CDF'), Text(0, 0.5, 'Value')]"
      ]
     },
     "execution_count": 41,
     "metadata": {},
     "output_type": "execute_result"
    },
    {
     "data": {
      "image/png": "[encoded data removed]",
      "text/plain": [
       "<Figure size 360x360 with 1 Axes>"
      ]
     },
     "metadata": {},
     "output_type": "display_data"
    }
   ],
   "source": [
    "ax = sns.distplot(data,\n",
    "                  kde=False,\n",
    "                  color=\"green\",\n",
    "                  hist=True,\n",
    "                  hist_kws={\"density\":True, \"linewidth\": 2,'alpha':1,'cumulative':True},\n",
    "                  norm_hist=False)\n",
    "ax.set(xlabel='CDF', ylabel='Value')"
   ]
  },
  {
   "cell_type": "code",
   "execution_count": 58,
   "metadata": {},
   "outputs": [],
   "source": [
    "def generateF13b(n):\n",
    "    Fi=[random.random() for i in range(n)]\n",
    "    return max(Fi) "
   ]
  },
  {
   "cell_type": "code",
   "execution_count": 59,
   "metadata": {},
   "outputs": [],
   "source": [
    "data = [generateF13b(10) for i in range(10**6)] # 10 to the power of 6"
   ]
  },
  {
   "cell_type": "code",
   "execution_count": 60,
   "metadata": {},
   "outputs": [
    {
     "data": {
      "text/plain": [
       "[Text(0.5, 0, 'CDF'), Text(0, 0.5, 'Value')]"
      ]
     },
     "execution_count": 60,
     "metadata": {},
     "output_type": "execute_result"
    },
    {
     "data": {
      "image/png": "[encoded data removed]",
      "text/plain": [
       "<Figure size 360x360 with 1 Axes>"
      ]
     },
     "metadata": {},
     "output_type": "display_data"
    }
   ],
   "source": [
    "ax = sns.distplot(data,\n",
    "                  kde=False,\n",
    "                  color=\"green\",\n",
    "                  hist=True,\n",
    "                  hist_kws={\"density\":True, \"linewidth\": 2,'alpha':1,'cumulative':True},\n",
    "                  norm_hist=True)\n",
    "ax.set(xlabel='CDF', ylabel='Value')"
   ]
  },
  {
   "cell_type": "code",
   "execution_count": 43,
   "metadata": {},
   "outputs": [],
   "source": [
    "def generateF13c(n):\n",
    "    return random.random()**(1/(n))"
   ]
  },
  {
   "cell_type": "code",
   "execution_count": 62,
   "metadata": {},
   "outputs": [],
   "source": [
    "data = [generateF13c(10) for i in range(10**6)] # 10 to the power of 6"
   ]
  },
  {
   "cell_type": "code",
   "execution_count": 63,
   "metadata": {
    "scrolled": true
   },
   "outputs": [
    {
     "data": {
      "text/plain": [
       "[Text(0.5, 0, 'CDF'), Text(0, 0.5, 'Value')]"
      ]
     },
     "execution_count": 63,
     "metadata": {},
     "output_type": "execute_result"
    },
    {
     "data": {
      "image/png": "[encoded data removed]",
      "text/plain": [
       "<Figure size 360x360 with 1 Axes>"
      ]
     },
     "metadata": {},
     "output_type": "display_data"
    }
   ],
   "source": [
    "ax = sns.distplot(data,\n",
    "                  kde=False,\n",
    "                  color=\"green\",\n",
    "                  hist=True,\n",
    "                  hist_kws={\"density\":True, \"linewidth\": 2,'alpha':1,'cumulative':True},\n",
    "                  norm_hist=True)\n",
    "ax.set(xlabel='CDF', ylabel='Value')"
   ]
  },
  {
   "cell_type": "markdown",
   "metadata": {},
   "source": [
    "### Question 22"
   ]
  },
  {
   "cell_type": "markdown",
   "metadata": {},
   "source": [
    "Give an efficient method to generate a random variable X having density\n",
    "$f (x) = 30(x^2-2x^3+x^4)$, $0 \\leq x \\leq 1$"
   ]
  },
  {
   "cell_type": "markdown",
   "metadata": {},
   "source": [
    "### Solution:\n",
    "For $0 \\leq x \\leq 1$, $F(x)=\\int^x_{0}f(t)dt=6 x^5 - 15 x^4 + 10 x^3=\\frac{1}{2}(12x^5)+\\frac{1}{3}(45x^4)+\\frac{1}{6}(60x^3)$\n",
    "\n",
    "\n",
    "then\n",
    "$ F^{-1}(y)=\\left\\{\n",
    "                \\begin{array}{c}\n",
    "                  \\frac{y}{12}^{\\frac{1}{5}} \\\\\n",
    "                  \\frac{y}{45}^{\\frac{1}{4}} \\\\\n",
    "                  \\frac{y}{60}^{\\frac{1}{3}}\n",
    "                \\end{array}\n",
    "              \\right.\n",
    "              \\begin{array}{l l}\n",
    "                  0 \\leq y \\leq 12 \\hspace{10mm}if\\hspace{3mm} 0 \\leq U\\leq \\frac{1}{3}\\\\\n",
    "                  0 \\leq y \\leq 45\\hspace{10mm} if\\hspace{3mm} \\frac{1}{3}\\leq U\\leq \\frac{2}{3} \\\\\n",
    "                  0 \\leq y \\leq 60 \\hspace{10mm}if\\hspace{3mm} \\frac{2}{3} \\leq U\\leq \\frac{1}{3} \\\\\n",
    "                \\end{array}\n",
    "            $\n",
    "where U is generated from unif[0,1]"
   ]
  },
  {
   "cell_type": "code",
   "execution_count": 47,
   "metadata": {},
   "outputs": [],
   "source": [
    "def generateF22a():\n",
    "    condition=random.random()\n",
    "    if condition<=1/2:   \n",
    "        return (np.random.uniform(low=0,high=12)/12)**(1/5)\n",
    "    elif condition<=5/6:\n",
    "        return (np.random.uniform(low=0,high=45)/45)**(1/4)\n",
    "    else:\n",
    "        return (np.random.uniform(low=0,high=60)/60)**(1/3)"
   ]
  },
  {
   "cell_type": "code",
   "execution_count": 64,
   "metadata": {},
   "outputs": [],
   "source": [
    "data = [generateF22a() for i in range(10**6)] # 10 to the power of 6"
   ]
  },
  {
   "cell_type": "code",
   "execution_count": 65,
   "metadata": {},
   "outputs": [
    {
     "data": {
      "text/plain": [
       "[Text(0.5, 0, 'CDF'), Text(0, 0.5, 'Value')]"
      ]
     },
     "execution_count": 65,
     "metadata": {},
     "output_type": "execute_result"
    },
    {
     "data": {
      "image/png": "[encoded data removed]",
      "text/plain": [
       "<Figure size 360x360 with 1 Axes>"
      ]
     },
     "metadata": {},
     "output_type": "display_data"
    }
   ],
   "source": [
    "ax = sns.distplot(data,\n",
    "                  kde=False,\n",
    "                  color=\"green\",\n",
    "                  hist=True,\n",
    "                  hist_kws={\"density\":True, \"linewidth\": 2,'alpha':1, 'cumulative':True},\n",
    "                  norm_hist=True)\n",
    "ax.set(xlabel='CDF', ylabel='Value')"
   ]
  },
  {
   "cell_type": "markdown",
   "metadata": {},
   "source": [
    "Also using Accept and Rejection:\n",
    "$6x^5−15x^4+10x^3<1.2x$"
   ]
  },
  {
   "cell_type": "code",
   "execution_count": 67,
   "metadata": {},
   "outputs": [
    {
     "data": {
      "image/jpeg": "[encoded data removed]",
      "text/plain": [
       "<IPython.core.display.Image object>"
      ]
     },
     "execution_count": 67,
     "metadata": {},
     "output_type": "execute_result"
    }
   ],
   "source": [
    "Image(\"plot1.jpg\")"
   ]
  },
  {
   "cell_type": "code",
   "execution_count": 68,
   "metadata": {},
   "outputs": [],
   "source": [
    "def generateF22b():\n",
    "    while True:\n",
    "        Y=random.random()\n",
    "        condition=random.random()\n",
    "        if condition<=(6*Y**4-15*Y**3+10*Y**2)/(1.2):  # F(y)/cG(y)=(6 x^4 - 15 x^3 + 10 x^2))/1.2\n",
    "            return Y"
   ]
  },
  {
   "cell_type": "code",
   "execution_count": 69,
   "metadata": {},
   "outputs": [],
   "source": [
    "data = [generateF22b() for i in range(10**6)] # 10 to the power of 6"
   ]
  },
  {
   "cell_type": "code",
   "execution_count": 70,
   "metadata": {},
   "outputs": [
    {
     "data": {
      "text/plain": [
       "[Text(0.5, 0, 'CDF'), Text(0, 0.5, 'Value')]"
      ]
     },
     "execution_count": 70,
     "metadata": {},
     "output_type": "execute_result"
    },
    {
     "data": {
      "image/png": "[encoded data removed]",
      "text/plain": [
       "<Figure size 360x360 with 1 Axes>"
      ]
     },
     "metadata": {},
     "output_type": "display_data"
    }
   ],
   "source": [
    "ax = sns.distplot(data,\n",
    "                  kde=False,\n",
    "                  color=\"green\",\n",
    "                  hist=True,\n",
    "                  hist_kws={\"density\":True, \"linewidth\": 2,'alpha':1, 'cumulative':True},\n",
    "                  norm_hist=True)\n",
    "ax.set(xlabel='CDF', ylabel='Value')"
   ]
  },
  {
   "cell_type": "markdown",
   "metadata": {},
   "source": [
    "Not good results, swapping $g(x)=x$ with $g(x)=x^2$ and `c=2.5` would give even worst results."
   ]
  },
  {
   "cell_type": "markdown",
   "metadata": {},
   "source": [
    "## Chapter 7"
   ]
  },
  {
   "cell_type": "markdown",
   "metadata": {},
   "source": [
    "### Question 5\n",
    "Consider a single-server queueing model in which customers arrive according\n",
    "to a nonhomogeneous Poisson process. Upon arriving they either enter service\n",
    "if the server is free or else they join the queue. Suppose, however, that each\n",
    "customer will only wait a random amount of time, having distribution F,\n",
    "in queue before leaving the system. Let G denote the service distribution.\n",
    "Define variables and events so as to analyze this model, and give the updating\n",
    "procedures. Suppose we are interested in estimating the average number of lost\n",
    "customers by time T , where a customer that departs before entering service is\n",
    "considered lost."
   ]
  },
  {
   "cell_type": "markdown",
   "metadata": {},
   "source": [
    "### Solution:\n",
    "First, we are going to make the default distributions for the service, starting with poisson process"
   ]
  },
  {
   "cell_type": "code",
   "execution_count": 6,
   "metadata": {},
   "outputs": [
    {
     "name": "stdout",
     "output_type": "stream",
     "text": [
      "109.9999921581193\n"
     ]
    }
   ],
   "source": [
    "def generatePoisson(T,lam=1):\n",
    "    t=0\n",
    "    events=[]\n",
    "    while t<=T:\n",
    "#         t=t-(1/lam)*np.log(random.random())\n",
    "        t=t+np.random.exponential(1/lam)\n",
    "        if t<=T:\n",
    "            events.append(t)\n",
    "#     return len(events)  we need the event times\n",
    "    return events\n",
    "            \n",
    "\n",
    "\n",
    "def defaultNonHomogeneousPoisson(t):\n",
    "    return 10+t\n",
    "\n",
    "print(defaultNonHomogeneousPoisson(fminbound(lambda x: -defaultNonHomogeneousPoisson(x), 0,100))) # find maximum\n",
    "\n",
    "def generateNonHomogeneousPoisson(T,lam=defaultNonHomogeneousPoisson):\n",
    "    maxlam=lam(fminbound(lambda x: -lam(x), 0,T))\n",
    "#     print(maxlam)\n",
    "    events=generatePoisson(T,lam=maxlam)\n",
    "#     print(events)\n",
    "    for s in events:\n",
    "        condition=random.random()\n",
    "        if condition>lam(s)/maxlam:\n",
    "            events.remove(s)\n",
    "    return events"
   ]
  },
  {
   "cell_type": "code",
   "execution_count": 7,
   "metadata": {},
   "outputs": [
    {
     "data": {
      "text/plain": [
       "[0.8415043463711043]"
      ]
     },
     "execution_count": 7,
     "metadata": {},
     "output_type": "execute_result"
    }
   ],
   "source": [
    "generatePoisson(1,lam=1)"
   ]
  },
  {
   "cell_type": "code",
   "execution_count": 53,
   "metadata": {},
   "outputs": [
    {
     "name": "stderr",
     "output_type": "stream",
     "text": [
      "100%|████████████████████████████████████████████████████████████████████████| 100000/100000 [01:19<00:00, 1252.46it/s]\n"
     ]
    }
   ],
   "source": [
    "data_poisson = np.random.poisson(100,10**4)  # 10 to the power of 4\n",
    "data = [ len(generatePoisson(100,lam=1)) for i in tqdm(range(10**5))] # 10 to the power of 5"
   ]
  },
  {
   "cell_type": "code",
   "execution_count": 55,
   "metadata": {},
   "outputs": [
    {
     "data": {
      "text/plain": [
       "[Text(0.5, 0, 'Poisson Dist.'), Text(0, 0.5, 'Frequency')]"
      ]
     },
     "execution_count": 55,
     "metadata": {},
     "output_type": "execute_result"
    },
    {
     "data": {
      "image/png": "[encoded data removed]",
      "text/plain": [
       "<Figure size 360x360 with 1 Axes>"
      ]
     },
     "metadata": {},
     "output_type": "display_data"
    }
   ],
   "source": [
    "ax = sns.distplot(data,\n",
    "                  kde=True,\n",
    "                  color=\"green\",\n",
    "                  hist=True,\n",
    "                  hist_kws={\"density\":True, \"linewidth\": 5,'alpha':1},\n",
    "                  norm_hist=True)\n",
    "ax.set(xlabel='Poisson Dist.', ylabel='Frequency')\n",
    "\n",
    "bx = sns.distplot(data_poisson,\n",
    "                  kde=True,\n",
    "                  color=\"skyblue\",\n",
    "                  hist=True,\n",
    "                  hist_kws={\"density\":True, \"linewidth\": 5,'alpha':1},\n",
    "                  norm_hist=True)\n",
    "bx.set(xlabel='Poisson Dist.', ylabel='Frequency')"
   ]
  },
  {
   "cell_type": "code",
   "execution_count": 220,
   "metadata": {},
   "outputs": [
    {
     "data": {
      "text/plain": [
       "[0.006647618002009568,\n",
       " 0.015476997960926983,\n",
       " 0.10852141699986408,\n",
       " 0.11334078428947078,\n",
       " 0.12874679170222053,\n",
       " 0.17983720142847273,\n",
       " 0.19896154666082405,\n",
       " 0.2727990389124246,\n",
       " 0.5169298059756228,\n",
       " 0.5264816531770037,\n",
       " 0.6905730035014754,\n",
       " 0.7999298645793478,\n",
       " 0.8398115541611324,\n",
       " 0.8430010850319462,\n",
       " 0.8735882644271722,\n",
       " 0.8776782408041748,\n",
       " 0.9345627881894241]"
      ]
     },
     "execution_count": 220,
     "metadata": {},
     "output_type": "execute_result"
    }
   ],
   "source": [
    "generateNonHomogeneousPoisson(1)"
   ]
  },
  {
   "cell_type": "code",
   "execution_count": 22,
   "metadata": {},
   "outputs": [
    {
     "name": "stderr",
     "output_type": "stream",
     "text": [
      "100%|███████████████████████████████████████████████████████████████████████████| 10000/10000 [00:44<00:00, 223.05it/s]\n"
     ]
    }
   ],
   "source": [
    "temp = [ generateNonHomogeneousPoisson(10) for i in tqdm(range(10**4))] # 10 to the power of 6\n",
    "data = [j for sub in temp for j in sub]"
   ]
  },
  {
   "cell_type": "code",
   "execution_count": 23,
   "metadata": {},
   "outputs": [
    {
     "data": {
      "text/plain": [
       "[Text(0.5, 0, 'Time of the events'), Text(0, 0.5, 'Frequency')]"
      ]
     },
     "execution_count": 23,
     "metadata": {},
     "output_type": "execute_result"
    },
    {
     "data": {
      "image/png": "[encoded data removed]",
      "text/plain": [
       "<Figure size 360x360 with 1 Axes>"
      ]
     },
     "metadata": {},
     "output_type": "display_data"
    }
   ],
   "source": [
    "ax = sns.distplot(data,\n",
    "                  kde=False,\n",
    "                  color=\"green\",\n",
    "                  hist=True,\n",
    "                  hist_kws={\"density\":False, \"linewidth\": 1,'alpha':1},\n",
    "                  norm_hist=False)\n",
    "ax.set(xlabel='Time of the events', ylabel='Frequency')"
   ]
  },
  {
   "cell_type": "markdown",
   "metadata": {},
   "source": [
    "Now we will make the rest of the default arguments (G,F) both are going to be exponentail and the people who arrive late are going to be more impatient"
   ]
  },
  {
   "cell_type": "code",
   "execution_count": 11,
   "metadata": {},
   "outputs": [],
   "source": [
    "def G():\n",
    "    return np.random.uniform(0,1)\n",
    "\n",
    "def F(t,T):\n",
    "    return np.random.uniform(0,1)"
   ]
  },
  {
   "cell_type": "markdown",
   "metadata": {},
   "source": [
    "Now we will make a single server class with what the features in the exercies. Just For checking our data we will make a pandas datatable"
   ]
  },
  {
   "cell_type": "code",
   "execution_count": 12,
   "metadata": {},
   "outputs": [],
   "source": [
    "class SingleServer():\n",
    "    def make_dataframe(self):\n",
    "        df=pd.DataFrame({'time' : [],'clients lost' : [],'clients arrive' : [],'clients departed' : [],\n",
    "                         'clients in queue' : [],'next arrival' : [],'next leave' : [],\n",
    "                         'next departure' : [],'clients patience' : [], 'client arrival' : []})\n",
    "        return df\n",
    "    \n",
    "    def save_episode(self):\n",
    "        self.log=self.log.append(pd.DataFrame({'time' : self.time,'clients lost' : self.customers_lost ,'clients arrive' : self.customers_arrive,\n",
    "                         'clients departed' : self.customers_leave, 'clients in queue' : self.customers_in_server,\n",
    "                         'next arrival' : self.next_arrival,'next leave' :self.next_leave,'next departure' : self.next_departure,\n",
    "                         'clients patience' : [tuple(self.customers_leaving)], 'client arrival' : [tuple(self.arrive_dist)]}))\n",
    "    \n",
    "    def save_dataframe(self):\n",
    "        self.log.to_csv('SingleServerlog.txt', index=False, sep='\\t')\n",
    "    \n",
    "    def client_patience(self):\n",
    "        return self.customers_patience_dist(self.time,self.end)\n",
    "    \n",
    "    def __init__(self, lam=defaultNonHomogeneousPoisson, service_dist=G, customers_patience_dist=F, T=10, log_flag=True):\n",
    "        # Initiate log\n",
    "        self.log_flag=log_flag\n",
    "        if self.log_flag:\n",
    "            self.log=self.make_dataframe()\n",
    "        \n",
    "        # Initiate time\n",
    "        self.time=0  \n",
    "        \n",
    "        # Closing time\n",
    "        self.end=T \n",
    "        \n",
    "        # Arrival times\n",
    "        self.arrive_dist= generateNonHomogeneousPoisson(T,lam=lam)  \n",
    "        \n",
    "        # Time that the service will take\n",
    "        self.service_dist= service_dist\n",
    "        \n",
    "        # The Time that the a customer will wait in queue\n",
    "        self.customers_patience_dist= customers_patience_dist \n",
    "        \n",
    "        # Number customers that will leave before getting any service\n",
    "        self.customers_lost=0  \n",
    "        \n",
    "        # Number of customers that have arrived\n",
    "        self.customers_arrive=0\n",
    "        \n",
    "        # Number of customers that leave after the service\n",
    "        self.customers_leave=0 \n",
    "        \n",
    "        # self.customers_arrive = self.customers_lost + self.customers_leave\n",
    "        \n",
    "        # Number of customers in queue + in service\n",
    "        self.customers_in_server=0  \n",
    "       \n",
    "        # setting next arrival and removing it from the list\n",
    "        self.next_arrival=self.arrive_dist.pop(0) \n",
    "        \n",
    "        # Since with every arrival we must compute a patience factor for the client we need to store them\n",
    "        # time that customers will leave without getting the service\n",
    "        self.customers_leaving=[]\n",
    "        \n",
    "        # setting next client who will leave before getting service\n",
    "        self.next_leave=float(\"inf\") # Nobody is in the server\n",
    "        \n",
    "        # setting next departure\n",
    "        self.next_departure=float(\"inf\")  # Nobody is in the server\n",
    "        \n",
    "        # write in log\n",
    "        if self.log_flag:\n",
    "            self.save_episode()\n",
    "        \n",
    "        \n",
    "    def arrival(self):  # In case of a new arrival\n",
    "        # set time\n",
    "        self.time=self.next_arrival\n",
    "        \n",
    "        # generate next arrival\n",
    "        self.next_arrival=self.arrive_dist.pop(0) \n",
    "        self.customers_arrive+=1\n",
    "        self.customers_in_server+=1\n",
    "        \n",
    "        # adding the patience of the client who arrived\n",
    "        self.customers_leaving.append(self.time+self.client_patience())\n",
    "        \n",
    "        # updating the next one who leaves\n",
    "        self.next_leave=self.next_to_leave()\n",
    "        \n",
    "        # arrival condition\n",
    "        if self.customers_in_server==1: \n",
    "            self.next_departure=self.time+self.service_dist()\n",
    "    \n",
    "    def departure(self): # In case of a new departure\n",
    "        \n",
    "        # set time\n",
    "        self.time=self.next_departure  \n",
    "        self.customers_leave+=1\n",
    "        self.customers_in_server-=1\n",
    "        \n",
    "        # [First in, first out] first one to arrive has left so it was patient enough to get the service\n",
    "        self.customers_leaving.pop(0)\n",
    "        \n",
    "        # updating the next one who leaves\n",
    "        self.next_leave=self.next_to_leave()\n",
    "        \n",
    "        # departure condition\n",
    "        if self.customers_in_server==0: \n",
    "            self.next_departure=float(\"inf\")\n",
    "        else:\n",
    "            self.next_departure=self.time+self.service_dist()\n",
    "    \n",
    "    def next_to_leave(self):\n",
    "        '''\n",
    "        Finding the next client who is leaving without getting the service\n",
    "        but beacause if we use min(self.customers_leaving) and self.customers_leaving\n",
    "        is empty, it will raise an error we use this function to avoid that.\n",
    "        '''\n",
    "        try:\n",
    "            return min(self.customers_leaving)\n",
    "        except ValueError:\n",
    "            return float(\"inf\")\n",
    "    \n",
    "    def leaving(self):\n",
    "        '''\n",
    "        The client who is leaving has an effect on the next person who is departing(leaving with getting the service)\n",
    "        since it could be the one who leaves.\n",
    "        '''\n",
    "        # set time\n",
    "        self.time=self.next_leave\n",
    "        \n",
    "        # find the position of the person in line\n",
    "        index=self.customers_leaving.index(self.next_leave)\n",
    "        \n",
    "        # removing it from the list\n",
    "        self.customers_leaving.remove(self.time)\n",
    "        \n",
    "        # updating the next one who leaves\n",
    "        self.next_leave=self.next_to_leave() \n",
    "        self.customers_lost+=1\n",
    "        self.customers_in_server-=1\n",
    "        \n",
    "        if index==0: # if he was the client who was being served then we must make a new departure time for the next client\n",
    "            if self.customers_in_server==0:\n",
    "                self.next_departure=float(\"inf\")\n",
    "            else:\n",
    "                self.next_departure=self.time+self.service_dist()\n",
    "            \n",
    "    \n",
    "    \n",
    "    def run(self):\n",
    "        while self.arrive_dist!=[]:\n",
    "            if min(self.next_departure, self.next_arrival, self.next_leave)==self.next_departure:\n",
    "                self.departure()\n",
    "            elif min(self.next_departure, self.next_arrival, self.next_leave)== self.next_leave:\n",
    "                self.leaving()\n",
    "            else:\n",
    "                self.arrival()\n",
    "            \n",
    "            # write in log\n",
    "            if self.log_flag:\n",
    "                self.save_episode()\n",
    "        \n",
    "        while self.customers_in_server!=0:\n",
    "            if min(self.next_departure, self.next_leave)==self.next_departure:\n",
    "                self.departure()\n",
    "            else:\n",
    "                self.leaving()\n",
    "            \n",
    "            # write in log\n",
    "            if self.log_flag:\n",
    "                self.save_episode()\n",
    "        \n",
    "        # save dataframe\n",
    "        if self.log_flag:\n",
    "            self.save_dataframe()\n",
    "        return(self.customers_lost,self.customers_leave,self.customers_arrive,self.customers_in_server,self.customers_leaving)\n",
    "    \n",
    "    def simulate(self, nsim):\n",
    "        client_lost_data = [SingleServer(log_flag=False).run()[0] for i in tqdm(range(nsim))]\n",
    "        return np.mean(client_lost_data),np.var(client_lost_data)"
   ]
  },
  {
   "cell_type": "code",
   "execution_count": 13,
   "metadata": {},
   "outputs": [
    {
     "data": {
      "text/plain": [
       "(42, 4, 46, 0, [])"
      ]
     },
     "execution_count": 13,
     "metadata": {},
     "output_type": "execute_result"
    }
   ],
   "source": [
    "server=SingleServer(T=4)\n",
    "test=server.run()\n",
    "test"
   ]
  },
  {
   "cell_type": "code",
   "execution_count": 14,
   "metadata": {
    "scrolled": false
   },
   "outputs": [
    {
     "name": "stderr",
     "output_type": "stream",
     "text": [
      "c:\\python37\\lib\\site-packages\\ipykernel_launcher.py:3: FutureWarning: Passing a negative integer is deprecated in version 1.0 and will not be supported in future version. Instead, use None to not limit the column width.\n",
      "  This is separate from the ipykernel package so we can avoid doing imports until\n"
     ]
    },
    {
     "data": {
      "text/html": [
       "<div>\n",
       "<style scoped>\n",
       "    .dataframe tbody tr th:only-of-type {\n",
       "        vertical-align: middle;\n",
       "    }\n",
       "\n",
       "    .dataframe tbody tr th {\n",
       "        vertical-align: top;\n",
       "    }\n",
       "\n",
       "    .dataframe thead th {\n",
       "        text-align: right;\n",
       "    }\n",
       "</style>\n",
       "<table border=\"1\" class=\"dataframe\">\n",
       "  <thead>\n",
       "    <tr style=\"text-align: right;\">\n",
       "      <th></th>\n",
       "      <th>time</th>\n",
       "      <th>clients lost</th>\n",
       "      <th>clients arrive</th>\n",
       "      <th>clients departed</th>\n",
       "      <th>clients in queue</th>\n",
       "      <th>next arrival</th>\n",
       "      <th>next leave</th>\n",
       "      <th>next departure</th>\n",
       "    </tr>\n",
       "  </thead>\n",
       "  <tbody>\n",
       "    <tr>\n",
       "      <th>0</th>\n",
       "      <td>0.000000</td>\n",
       "      <td>0.0</td>\n",
       "      <td>0.0</td>\n",
       "      <td>0.0</td>\n",
       "      <td>0.0</td>\n",
       "      <td>0.183220</td>\n",
       "      <td>inf</td>\n",
       "      <td>inf</td>\n",
       "    </tr>\n",
       "    <tr>\n",
       "      <th>0</th>\n",
       "      <td>0.183220</td>\n",
       "      <td>0.0</td>\n",
       "      <td>1.0</td>\n",
       "      <td>0.0</td>\n",
       "      <td>1.0</td>\n",
       "      <td>0.233355</td>\n",
       "      <td>0.207633</td>\n",
       "      <td>0.314543</td>\n",
       "    </tr>\n",
       "    <tr>\n",
       "      <th>0</th>\n",
       "      <td>0.207633</td>\n",
       "      <td>1.0</td>\n",
       "      <td>1.0</td>\n",
       "      <td>0.0</td>\n",
       "      <td>0.0</td>\n",
       "      <td>0.233355</td>\n",
       "      <td>inf</td>\n",
       "      <td>inf</td>\n",
       "    </tr>\n",
       "    <tr>\n",
       "      <th>0</th>\n",
       "      <td>0.233355</td>\n",
       "      <td>1.0</td>\n",
       "      <td>2.0</td>\n",
       "      <td>0.0</td>\n",
       "      <td>1.0</td>\n",
       "      <td>0.344335</td>\n",
       "      <td>0.365712</td>\n",
       "      <td>0.614135</td>\n",
       "    </tr>\n",
       "    <tr>\n",
       "      <th>0</th>\n",
       "      <td>0.344335</td>\n",
       "      <td>1.0</td>\n",
       "      <td>3.0</td>\n",
       "      <td>0.0</td>\n",
       "      <td>2.0</td>\n",
       "      <td>0.371384</td>\n",
       "      <td>0.365712</td>\n",
       "      <td>0.614135</td>\n",
       "    </tr>\n",
       "    <tr>\n",
       "      <th>0</th>\n",
       "      <td>0.365712</td>\n",
       "      <td>2.0</td>\n",
       "      <td>3.0</td>\n",
       "      <td>0.0</td>\n",
       "      <td>1.0</td>\n",
       "      <td>0.371384</td>\n",
       "      <td>0.447708</td>\n",
       "      <td>1.210605</td>\n",
       "    </tr>\n",
       "    <tr>\n",
       "      <th>0</th>\n",
       "      <td>0.371384</td>\n",
       "      <td>2.0</td>\n",
       "      <td>4.0</td>\n",
       "      <td>0.0</td>\n",
       "      <td>2.0</td>\n",
       "      <td>0.373829</td>\n",
       "      <td>0.447708</td>\n",
       "      <td>1.210605</td>\n",
       "    </tr>\n",
       "    <tr>\n",
       "      <th>0</th>\n",
       "      <td>0.373829</td>\n",
       "      <td>2.0</td>\n",
       "      <td>5.0</td>\n",
       "      <td>0.0</td>\n",
       "      <td>3.0</td>\n",
       "      <td>0.669463</td>\n",
       "      <td>0.447708</td>\n",
       "      <td>1.210605</td>\n",
       "    </tr>\n",
       "    <tr>\n",
       "      <th>0</th>\n",
       "      <td>0.447708</td>\n",
       "      <td>3.0</td>\n",
       "      <td>5.0</td>\n",
       "      <td>0.0</td>\n",
       "      <td>2.0</td>\n",
       "      <td>0.669463</td>\n",
       "      <td>0.492877</td>\n",
       "      <td>0.448545</td>\n",
       "    </tr>\n",
       "    <tr>\n",
       "      <th>0</th>\n",
       "      <td>0.448545</td>\n",
       "      <td>3.0</td>\n",
       "      <td>5.0</td>\n",
       "      <td>1.0</td>\n",
       "      <td>1.0</td>\n",
       "      <td>0.669463</td>\n",
       "      <td>0.492877</td>\n",
       "      <td>1.418327</td>\n",
       "    </tr>\n",
       "    <tr>\n",
       "      <th>0</th>\n",
       "      <td>0.492877</td>\n",
       "      <td>4.0</td>\n",
       "      <td>5.0</td>\n",
       "      <td>1.0</td>\n",
       "      <td>0.0</td>\n",
       "      <td>0.669463</td>\n",
       "      <td>inf</td>\n",
       "      <td>inf</td>\n",
       "    </tr>\n",
       "    <tr>\n",
       "      <th>0</th>\n",
       "      <td>0.669463</td>\n",
       "      <td>4.0</td>\n",
       "      <td>6.0</td>\n",
       "      <td>1.0</td>\n",
       "      <td>1.0</td>\n",
       "      <td>0.716580</td>\n",
       "      <td>1.347302</td>\n",
       "      <td>1.398552</td>\n",
       "    </tr>\n",
       "    <tr>\n",
       "      <th>0</th>\n",
       "      <td>0.716580</td>\n",
       "      <td>4.0</td>\n",
       "      <td>7.0</td>\n",
       "      <td>1.0</td>\n",
       "      <td>2.0</td>\n",
       "      <td>0.727516</td>\n",
       "      <td>0.791990</td>\n",
       "      <td>1.398552</td>\n",
       "    </tr>\n",
       "    <tr>\n",
       "      <th>0</th>\n",
       "      <td>0.727516</td>\n",
       "      <td>4.0</td>\n",
       "      <td>8.0</td>\n",
       "      <td>1.0</td>\n",
       "      <td>3.0</td>\n",
       "      <td>0.770330</td>\n",
       "      <td>0.791990</td>\n",
       "      <td>1.398552</td>\n",
       "    </tr>\n",
       "    <tr>\n",
       "      <th>0</th>\n",
       "      <td>0.770330</td>\n",
       "      <td>4.0</td>\n",
       "      <td>9.0</td>\n",
       "      <td>1.0</td>\n",
       "      <td>4.0</td>\n",
       "      <td>0.790586</td>\n",
       "      <td>0.791990</td>\n",
       "      <td>1.398552</td>\n",
       "    </tr>\n",
       "    <tr>\n",
       "      <th>0</th>\n",
       "      <td>0.790586</td>\n",
       "      <td>4.0</td>\n",
       "      <td>10.0</td>\n",
       "      <td>1.0</td>\n",
       "      <td>5.0</td>\n",
       "      <td>1.048274</td>\n",
       "      <td>0.791990</td>\n",
       "      <td>1.398552</td>\n",
       "    </tr>\n",
       "    <tr>\n",
       "      <th>0</th>\n",
       "      <td>0.791990</td>\n",
       "      <td>5.0</td>\n",
       "      <td>10.0</td>\n",
       "      <td>1.0</td>\n",
       "      <td>4.0</td>\n",
       "      <td>1.048274</td>\n",
       "      <td>1.267806</td>\n",
       "      <td>1.398552</td>\n",
       "    </tr>\n",
       "    <tr>\n",
       "      <th>0</th>\n",
       "      <td>1.048274</td>\n",
       "      <td>5.0</td>\n",
       "      <td>11.0</td>\n",
       "      <td>1.0</td>\n",
       "      <td>5.0</td>\n",
       "      <td>1.097815</td>\n",
       "      <td>1.267806</td>\n",
       "      <td>1.398552</td>\n",
       "    </tr>\n",
       "    <tr>\n",
       "      <th>0</th>\n",
       "      <td>1.097815</td>\n",
       "      <td>5.0</td>\n",
       "      <td>12.0</td>\n",
       "      <td>1.0</td>\n",
       "      <td>6.0</td>\n",
       "      <td>1.212967</td>\n",
       "      <td>1.122800</td>\n",
       "      <td>1.398552</td>\n",
       "    </tr>\n",
       "    <tr>\n",
       "      <th>0</th>\n",
       "      <td>1.122800</td>\n",
       "      <td>6.0</td>\n",
       "      <td>12.0</td>\n",
       "      <td>1.0</td>\n",
       "      <td>5.0</td>\n",
       "      <td>1.212967</td>\n",
       "      <td>1.267806</td>\n",
       "      <td>1.398552</td>\n",
       "    </tr>\n",
       "    <tr>\n",
       "      <th>0</th>\n",
       "      <td>1.212967</td>\n",
       "      <td>6.0</td>\n",
       "      <td>13.0</td>\n",
       "      <td>1.0</td>\n",
       "      <td>6.0</td>\n",
       "      <td>1.254506</td>\n",
       "      <td>1.267806</td>\n",
       "      <td>1.398552</td>\n",
       "    </tr>\n",
       "    <tr>\n",
       "      <th>0</th>\n",
       "      <td>1.254506</td>\n",
       "      <td>6.0</td>\n",
       "      <td>14.0</td>\n",
       "      <td>1.0</td>\n",
       "      <td>7.0</td>\n",
       "      <td>1.322111</td>\n",
       "      <td>1.267806</td>\n",
       "      <td>1.398552</td>\n",
       "    </tr>\n",
       "    <tr>\n",
       "      <th>0</th>\n",
       "      <td>1.267806</td>\n",
       "      <td>7.0</td>\n",
       "      <td>14.0</td>\n",
       "      <td>1.0</td>\n",
       "      <td>6.0</td>\n",
       "      <td>1.322111</td>\n",
       "      <td>1.305969</td>\n",
       "      <td>1.398552</td>\n",
       "    </tr>\n",
       "    <tr>\n",
       "      <th>0</th>\n",
       "      <td>1.305969</td>\n",
       "      <td>8.0</td>\n",
       "      <td>14.0</td>\n",
       "      <td>1.0</td>\n",
       "      <td>5.0</td>\n",
       "      <td>1.322111</td>\n",
       "      <td>1.347302</td>\n",
       "      <td>1.398552</td>\n",
       "    </tr>\n",
       "    <tr>\n",
       "      <th>0</th>\n",
       "      <td>1.322111</td>\n",
       "      <td>8.0</td>\n",
       "      <td>15.0</td>\n",
       "      <td>1.0</td>\n",
       "      <td>6.0</td>\n",
       "      <td>1.334895</td>\n",
       "      <td>1.347302</td>\n",
       "      <td>1.398552</td>\n",
       "    </tr>\n",
       "    <tr>\n",
       "      <th>0</th>\n",
       "      <td>1.334895</td>\n",
       "      <td>8.0</td>\n",
       "      <td>16.0</td>\n",
       "      <td>1.0</td>\n",
       "      <td>7.0</td>\n",
       "      <td>1.426054</td>\n",
       "      <td>1.347302</td>\n",
       "      <td>1.398552</td>\n",
       "    </tr>\n",
       "    <tr>\n",
       "      <th>0</th>\n",
       "      <td>1.347302</td>\n",
       "      <td>9.0</td>\n",
       "      <td>16.0</td>\n",
       "      <td>1.0</td>\n",
       "      <td>6.0</td>\n",
       "      <td>1.426054</td>\n",
       "      <td>1.537768</td>\n",
       "      <td>2.202124</td>\n",
       "    </tr>\n",
       "    <tr>\n",
       "      <th>0</th>\n",
       "      <td>1.426054</td>\n",
       "      <td>9.0</td>\n",
       "      <td>17.0</td>\n",
       "      <td>1.0</td>\n",
       "      <td>7.0</td>\n",
       "      <td>1.485264</td>\n",
       "      <td>1.537768</td>\n",
       "      <td>2.202124</td>\n",
       "    </tr>\n",
       "    <tr>\n",
       "      <th>0</th>\n",
       "      <td>1.485264</td>\n",
       "      <td>9.0</td>\n",
       "      <td>18.0</td>\n",
       "      <td>1.0</td>\n",
       "      <td>8.0</td>\n",
       "      <td>1.594848</td>\n",
       "      <td>1.537768</td>\n",
       "      <td>2.202124</td>\n",
       "    </tr>\n",
       "    <tr>\n",
       "      <th>0</th>\n",
       "      <td>1.537768</td>\n",
       "      <td>10.0</td>\n",
       "      <td>18.0</td>\n",
       "      <td>1.0</td>\n",
       "      <td>7.0</td>\n",
       "      <td>1.594848</td>\n",
       "      <td>1.650348</td>\n",
       "      <td>1.959028</td>\n",
       "    </tr>\n",
       "    <tr>\n",
       "      <th>0</th>\n",
       "      <td>1.594848</td>\n",
       "      <td>10.0</td>\n",
       "      <td>19.0</td>\n",
       "      <td>1.0</td>\n",
       "      <td>8.0</td>\n",
       "      <td>1.639364</td>\n",
       "      <td>1.650348</td>\n",
       "      <td>1.959028</td>\n",
       "    </tr>\n",
       "    <tr>\n",
       "      <th>0</th>\n",
       "      <td>1.639364</td>\n",
       "      <td>10.0</td>\n",
       "      <td>20.0</td>\n",
       "      <td>1.0</td>\n",
       "      <td>9.0</td>\n",
       "      <td>1.700196</td>\n",
       "      <td>1.650348</td>\n",
       "      <td>1.959028</td>\n",
       "    </tr>\n",
       "    <tr>\n",
       "      <th>0</th>\n",
       "      <td>1.650348</td>\n",
       "      <td>11.0</td>\n",
       "      <td>20.0</td>\n",
       "      <td>1.0</td>\n",
       "      <td>8.0</td>\n",
       "      <td>1.700196</td>\n",
       "      <td>1.671517</td>\n",
       "      <td>2.337197</td>\n",
       "    </tr>\n",
       "    <tr>\n",
       "      <th>0</th>\n",
       "      <td>1.671517</td>\n",
       "      <td>12.0</td>\n",
       "      <td>20.0</td>\n",
       "      <td>1.0</td>\n",
       "      <td>7.0</td>\n",
       "      <td>1.700196</td>\n",
       "      <td>1.761781</td>\n",
       "      <td>2.337197</td>\n",
       "    </tr>\n",
       "    <tr>\n",
       "      <th>0</th>\n",
       "      <td>1.700196</td>\n",
       "      <td>12.0</td>\n",
       "      <td>21.0</td>\n",
       "      <td>1.0</td>\n",
       "      <td>8.0</td>\n",
       "      <td>1.856658</td>\n",
       "      <td>1.723187</td>\n",
       "      <td>2.337197</td>\n",
       "    </tr>\n",
       "    <tr>\n",
       "      <th>0</th>\n",
       "      <td>1.723187</td>\n",
       "      <td>13.0</td>\n",
       "      <td>21.0</td>\n",
       "      <td>1.0</td>\n",
       "      <td>7.0</td>\n",
       "      <td>1.856658</td>\n",
       "      <td>1.761781</td>\n",
       "      <td>2.337197</td>\n",
       "    </tr>\n",
       "    <tr>\n",
       "      <th>0</th>\n",
       "      <td>1.761781</td>\n",
       "      <td>14.0</td>\n",
       "      <td>21.0</td>\n",
       "      <td>1.0</td>\n",
       "      <td>6.0</td>\n",
       "      <td>1.856658</td>\n",
       "      <td>1.826020</td>\n",
       "      <td>2.337197</td>\n",
       "    </tr>\n",
       "    <tr>\n",
       "      <th>0</th>\n",
       "      <td>1.826020</td>\n",
       "      <td>15.0</td>\n",
       "      <td>21.0</td>\n",
       "      <td>1.0</td>\n",
       "      <td>5.0</td>\n",
       "      <td>1.856658</td>\n",
       "      <td>1.897281</td>\n",
       "      <td>2.622060</td>\n",
       "    </tr>\n",
       "    <tr>\n",
       "      <th>0</th>\n",
       "      <td>1.856658</td>\n",
       "      <td>15.0</td>\n",
       "      <td>22.0</td>\n",
       "      <td>1.0</td>\n",
       "      <td>6.0</td>\n",
       "      <td>2.191013</td>\n",
       "      <td>1.897281</td>\n",
       "      <td>2.622060</td>\n",
       "    </tr>\n",
       "    <tr>\n",
       "      <th>0</th>\n",
       "      <td>1.897281</td>\n",
       "      <td>16.0</td>\n",
       "      <td>22.0</td>\n",
       "      <td>1.0</td>\n",
       "      <td>5.0</td>\n",
       "      <td>2.191013</td>\n",
       "      <td>2.070115</td>\n",
       "      <td>2.242892</td>\n",
       "    </tr>\n",
       "    <tr>\n",
       "      <th>0</th>\n",
       "      <td>2.070115</td>\n",
       "      <td>17.0</td>\n",
       "      <td>22.0</td>\n",
       "      <td>1.0</td>\n",
       "      <td>4.0</td>\n",
       "      <td>2.191013</td>\n",
       "      <td>2.083408</td>\n",
       "      <td>2.242892</td>\n",
       "    </tr>\n",
       "    <tr>\n",
       "      <th>0</th>\n",
       "      <td>2.083408</td>\n",
       "      <td>18.0</td>\n",
       "      <td>22.0</td>\n",
       "      <td>1.0</td>\n",
       "      <td>3.0</td>\n",
       "      <td>2.191013</td>\n",
       "      <td>2.163057</td>\n",
       "      <td>2.242892</td>\n",
       "    </tr>\n",
       "    <tr>\n",
       "      <th>0</th>\n",
       "      <td>2.163057</td>\n",
       "      <td>19.0</td>\n",
       "      <td>22.0</td>\n",
       "      <td>1.0</td>\n",
       "      <td>2.0</td>\n",
       "      <td>2.191013</td>\n",
       "      <td>2.530494</td>\n",
       "      <td>2.759820</td>\n",
       "    </tr>\n",
       "    <tr>\n",
       "      <th>0</th>\n",
       "      <td>2.191013</td>\n",
       "      <td>19.0</td>\n",
       "      <td>23.0</td>\n",
       "      <td>1.0</td>\n",
       "      <td>3.0</td>\n",
       "      <td>2.225716</td>\n",
       "      <td>2.530494</td>\n",
       "      <td>2.759820</td>\n",
       "    </tr>\n",
       "    <tr>\n",
       "      <th>0</th>\n",
       "      <td>2.225716</td>\n",
       "      <td>19.0</td>\n",
       "      <td>24.0</td>\n",
       "      <td>1.0</td>\n",
       "      <td>4.0</td>\n",
       "      <td>2.294040</td>\n",
       "      <td>2.530494</td>\n",
       "      <td>2.759820</td>\n",
       "    </tr>\n",
       "    <tr>\n",
       "      <th>0</th>\n",
       "      <td>2.294040</td>\n",
       "      <td>19.0</td>\n",
       "      <td>25.0</td>\n",
       "      <td>1.0</td>\n",
       "      <td>5.0</td>\n",
       "      <td>2.321534</td>\n",
       "      <td>2.530494</td>\n",
       "      <td>2.759820</td>\n",
       "    </tr>\n",
       "    <tr>\n",
       "      <th>0</th>\n",
       "      <td>2.321534</td>\n",
       "      <td>19.0</td>\n",
       "      <td>26.0</td>\n",
       "      <td>1.0</td>\n",
       "      <td>6.0</td>\n",
       "      <td>2.417565</td>\n",
       "      <td>2.530494</td>\n",
       "      <td>2.759820</td>\n",
       "    </tr>\n",
       "    <tr>\n",
       "      <th>0</th>\n",
       "      <td>2.417565</td>\n",
       "      <td>19.0</td>\n",
       "      <td>27.0</td>\n",
       "      <td>1.0</td>\n",
       "      <td>7.0</td>\n",
       "      <td>2.475541</td>\n",
       "      <td>2.530494</td>\n",
       "      <td>2.759820</td>\n",
       "    </tr>\n",
       "    <tr>\n",
       "      <th>0</th>\n",
       "      <td>2.475541</td>\n",
       "      <td>19.0</td>\n",
       "      <td>28.0</td>\n",
       "      <td>1.0</td>\n",
       "      <td>8.0</td>\n",
       "      <td>2.544918</td>\n",
       "      <td>2.530494</td>\n",
       "      <td>2.759820</td>\n",
       "    </tr>\n",
       "    <tr>\n",
       "      <th>0</th>\n",
       "      <td>2.530494</td>\n",
       "      <td>20.0</td>\n",
       "      <td>28.0</td>\n",
       "      <td>1.0</td>\n",
       "      <td>7.0</td>\n",
       "      <td>2.544918</td>\n",
       "      <td>2.681517</td>\n",
       "      <td>2.740439</td>\n",
       "    </tr>\n",
       "    <tr>\n",
       "      <th>0</th>\n",
       "      <td>2.544918</td>\n",
       "      <td>20.0</td>\n",
       "      <td>29.0</td>\n",
       "      <td>1.0</td>\n",
       "      <td>8.0</td>\n",
       "      <td>2.739477</td>\n",
       "      <td>2.681517</td>\n",
       "      <td>2.740439</td>\n",
       "    </tr>\n",
       "    <tr>\n",
       "      <th>0</th>\n",
       "      <td>2.681517</td>\n",
       "      <td>21.0</td>\n",
       "      <td>29.0</td>\n",
       "      <td>1.0</td>\n",
       "      <td>7.0</td>\n",
       "      <td>2.739477</td>\n",
       "      <td>2.688874</td>\n",
       "      <td>2.740439</td>\n",
       "    </tr>\n",
       "    <tr>\n",
       "      <th>0</th>\n",
       "      <td>2.688874</td>\n",
       "      <td>22.0</td>\n",
       "      <td>29.0</td>\n",
       "      <td>1.0</td>\n",
       "      <td>6.0</td>\n",
       "      <td>2.739477</td>\n",
       "      <td>2.756442</td>\n",
       "      <td>3.048440</td>\n",
       "    </tr>\n",
       "    <tr>\n",
       "      <th>0</th>\n",
       "      <td>2.739477</td>\n",
       "      <td>22.0</td>\n",
       "      <td>30.0</td>\n",
       "      <td>1.0</td>\n",
       "      <td>7.0</td>\n",
       "      <td>2.783157</td>\n",
       "      <td>2.756442</td>\n",
       "      <td>3.048440</td>\n",
       "    </tr>\n",
       "    <tr>\n",
       "      <th>0</th>\n",
       "      <td>2.756442</td>\n",
       "      <td>23.0</td>\n",
       "      <td>30.0</td>\n",
       "      <td>1.0</td>\n",
       "      <td>6.0</td>\n",
       "      <td>2.783157</td>\n",
       "      <td>2.895219</td>\n",
       "      <td>3.048440</td>\n",
       "    </tr>\n",
       "    <tr>\n",
       "      <th>0</th>\n",
       "      <td>2.783157</td>\n",
       "      <td>23.0</td>\n",
       "      <td>31.0</td>\n",
       "      <td>1.0</td>\n",
       "      <td>7.0</td>\n",
       "      <td>2.808286</td>\n",
       "      <td>2.817843</td>\n",
       "      <td>3.048440</td>\n",
       "    </tr>\n",
       "    <tr>\n",
       "      <th>0</th>\n",
       "      <td>2.808286</td>\n",
       "      <td>23.0</td>\n",
       "      <td>32.0</td>\n",
       "      <td>1.0</td>\n",
       "      <td>8.0</td>\n",
       "      <td>2.819164</td>\n",
       "      <td>2.817843</td>\n",
       "      <td>3.048440</td>\n",
       "    </tr>\n",
       "    <tr>\n",
       "      <th>0</th>\n",
       "      <td>2.817843</td>\n",
       "      <td>24.0</td>\n",
       "      <td>32.0</td>\n",
       "      <td>1.0</td>\n",
       "      <td>7.0</td>\n",
       "      <td>2.819164</td>\n",
       "      <td>2.895219</td>\n",
       "      <td>3.048440</td>\n",
       "    </tr>\n",
       "    <tr>\n",
       "      <th>0</th>\n",
       "      <td>2.819164</td>\n",
       "      <td>24.0</td>\n",
       "      <td>33.0</td>\n",
       "      <td>1.0</td>\n",
       "      <td>8.0</td>\n",
       "      <td>2.872603</td>\n",
       "      <td>2.895219</td>\n",
       "      <td>3.048440</td>\n",
       "    </tr>\n",
       "    <tr>\n",
       "      <th>0</th>\n",
       "      <td>2.872603</td>\n",
       "      <td>24.0</td>\n",
       "      <td>34.0</td>\n",
       "      <td>1.0</td>\n",
       "      <td>9.0</td>\n",
       "      <td>2.904698</td>\n",
       "      <td>2.895219</td>\n",
       "      <td>3.048440</td>\n",
       "    </tr>\n",
       "    <tr>\n",
       "      <th>0</th>\n",
       "      <td>2.895219</td>\n",
       "      <td>25.0</td>\n",
       "      <td>34.0</td>\n",
       "      <td>1.0</td>\n",
       "      <td>8.0</td>\n",
       "      <td>2.904698</td>\n",
       "      <td>2.980964</td>\n",
       "      <td>3.048440</td>\n",
       "    </tr>\n",
       "    <tr>\n",
       "      <th>0</th>\n",
       "      <td>2.904698</td>\n",
       "      <td>25.0</td>\n",
       "      <td>35.0</td>\n",
       "      <td>1.0</td>\n",
       "      <td>9.0</td>\n",
       "      <td>2.962471</td>\n",
       "      <td>2.980964</td>\n",
       "      <td>3.048440</td>\n",
       "    </tr>\n",
       "    <tr>\n",
       "      <th>0</th>\n",
       "      <td>2.962471</td>\n",
       "      <td>25.0</td>\n",
       "      <td>36.0</td>\n",
       "      <td>1.0</td>\n",
       "      <td>10.0</td>\n",
       "      <td>3.062073</td>\n",
       "      <td>2.980964</td>\n",
       "      <td>3.048440</td>\n",
       "    </tr>\n",
       "    <tr>\n",
       "      <th>0</th>\n",
       "      <td>2.980964</td>\n",
       "      <td>26.0</td>\n",
       "      <td>36.0</td>\n",
       "      <td>1.0</td>\n",
       "      <td>9.0</td>\n",
       "      <td>3.062073</td>\n",
       "      <td>3.024987</td>\n",
       "      <td>3.048440</td>\n",
       "    </tr>\n",
       "    <tr>\n",
       "      <th>0</th>\n",
       "      <td>3.024987</td>\n",
       "      <td>27.0</td>\n",
       "      <td>36.0</td>\n",
       "      <td>1.0</td>\n",
       "      <td>8.0</td>\n",
       "      <td>3.062073</td>\n",
       "      <td>3.050097</td>\n",
       "      <td>3.048440</td>\n",
       "    </tr>\n",
       "    <tr>\n",
       "      <th>0</th>\n",
       "      <td>3.048440</td>\n",
       "      <td>27.0</td>\n",
       "      <td>36.0</td>\n",
       "      <td>2.0</td>\n",
       "      <td>7.0</td>\n",
       "      <td>3.062073</td>\n",
       "      <td>3.050097</td>\n",
       "      <td>3.149266</td>\n",
       "    </tr>\n",
       "    <tr>\n",
       "      <th>0</th>\n",
       "      <td>3.050097</td>\n",
       "      <td>28.0</td>\n",
       "      <td>36.0</td>\n",
       "      <td>2.0</td>\n",
       "      <td>6.0</td>\n",
       "      <td>3.062073</td>\n",
       "      <td>3.160943</td>\n",
       "      <td>3.371900</td>\n",
       "    </tr>\n",
       "    <tr>\n",
       "      <th>0</th>\n",
       "      <td>3.062073</td>\n",
       "      <td>28.0</td>\n",
       "      <td>37.0</td>\n",
       "      <td>2.0</td>\n",
       "      <td>7.0</td>\n",
       "      <td>3.081718</td>\n",
       "      <td>3.160943</td>\n",
       "      <td>3.371900</td>\n",
       "    </tr>\n",
       "    <tr>\n",
       "      <th>0</th>\n",
       "      <td>3.081718</td>\n",
       "      <td>28.0</td>\n",
       "      <td>38.0</td>\n",
       "      <td>2.0</td>\n",
       "      <td>8.0</td>\n",
       "      <td>3.247461</td>\n",
       "      <td>3.160943</td>\n",
       "      <td>3.371900</td>\n",
       "    </tr>\n",
       "    <tr>\n",
       "      <th>0</th>\n",
       "      <td>3.160943</td>\n",
       "      <td>29.0</td>\n",
       "      <td>38.0</td>\n",
       "      <td>2.0</td>\n",
       "      <td>7.0</td>\n",
       "      <td>3.247461</td>\n",
       "      <td>3.247446</td>\n",
       "      <td>3.371900</td>\n",
       "    </tr>\n",
       "    <tr>\n",
       "      <th>0</th>\n",
       "      <td>3.247446</td>\n",
       "      <td>30.0</td>\n",
       "      <td>38.0</td>\n",
       "      <td>2.0</td>\n",
       "      <td>6.0</td>\n",
       "      <td>3.247461</td>\n",
       "      <td>3.403585</td>\n",
       "      <td>3.353656</td>\n",
       "    </tr>\n",
       "    <tr>\n",
       "      <th>0</th>\n",
       "      <td>3.247461</td>\n",
       "      <td>30.0</td>\n",
       "      <td>39.0</td>\n",
       "      <td>2.0</td>\n",
       "      <td>7.0</td>\n",
       "      <td>3.283072</td>\n",
       "      <td>3.403585</td>\n",
       "      <td>3.353656</td>\n",
       "    </tr>\n",
       "    <tr>\n",
       "      <th>0</th>\n",
       "      <td>3.283072</td>\n",
       "      <td>30.0</td>\n",
       "      <td>40.0</td>\n",
       "      <td>2.0</td>\n",
       "      <td>8.0</td>\n",
       "      <td>3.358841</td>\n",
       "      <td>3.403585</td>\n",
       "      <td>3.353656</td>\n",
       "    </tr>\n",
       "    <tr>\n",
       "      <th>0</th>\n",
       "      <td>3.353656</td>\n",
       "      <td>30.0</td>\n",
       "      <td>40.0</td>\n",
       "      <td>3.0</td>\n",
       "      <td>7.0</td>\n",
       "      <td>3.358841</td>\n",
       "      <td>3.626388</td>\n",
       "      <td>3.832181</td>\n",
       "    </tr>\n",
       "    <tr>\n",
       "      <th>0</th>\n",
       "      <td>3.358841</td>\n",
       "      <td>30.0</td>\n",
       "      <td>41.0</td>\n",
       "      <td>3.0</td>\n",
       "      <td>8.0</td>\n",
       "      <td>3.488905</td>\n",
       "      <td>3.369269</td>\n",
       "      <td>3.832181</td>\n",
       "    </tr>\n",
       "    <tr>\n",
       "      <th>0</th>\n",
       "      <td>3.369269</td>\n",
       "      <td>31.0</td>\n",
       "      <td>41.0</td>\n",
       "      <td>3.0</td>\n",
       "      <td>7.0</td>\n",
       "      <td>3.488905</td>\n",
       "      <td>3.626388</td>\n",
       "      <td>3.832181</td>\n",
       "    </tr>\n",
       "    <tr>\n",
       "      <th>0</th>\n",
       "      <td>3.488905</td>\n",
       "      <td>31.0</td>\n",
       "      <td>42.0</td>\n",
       "      <td>3.0</td>\n",
       "      <td>8.0</td>\n",
       "      <td>3.494121</td>\n",
       "      <td>3.626388</td>\n",
       "      <td>3.832181</td>\n",
       "    </tr>\n",
       "    <tr>\n",
       "      <th>0</th>\n",
       "      <td>3.494121</td>\n",
       "      <td>31.0</td>\n",
       "      <td>43.0</td>\n",
       "      <td>3.0</td>\n",
       "      <td>9.0</td>\n",
       "      <td>3.524783</td>\n",
       "      <td>3.626388</td>\n",
       "      <td>3.832181</td>\n",
       "    </tr>\n",
       "    <tr>\n",
       "      <th>0</th>\n",
       "      <td>3.524783</td>\n",
       "      <td>31.0</td>\n",
       "      <td>44.0</td>\n",
       "      <td>3.0</td>\n",
       "      <td>10.0</td>\n",
       "      <td>3.540343</td>\n",
       "      <td>3.626388</td>\n",
       "      <td>3.832181</td>\n",
       "    </tr>\n",
       "    <tr>\n",
       "      <th>0</th>\n",
       "      <td>3.540343</td>\n",
       "      <td>31.0</td>\n",
       "      <td>45.0</td>\n",
       "      <td>3.0</td>\n",
       "      <td>11.0</td>\n",
       "      <td>3.729321</td>\n",
       "      <td>3.626388</td>\n",
       "      <td>3.832181</td>\n",
       "    </tr>\n",
       "    <tr>\n",
       "      <th>0</th>\n",
       "      <td>3.626388</td>\n",
       "      <td>32.0</td>\n",
       "      <td>45.0</td>\n",
       "      <td>3.0</td>\n",
       "      <td>10.0</td>\n",
       "      <td>3.729321</td>\n",
       "      <td>3.663762</td>\n",
       "      <td>3.832181</td>\n",
       "    </tr>\n",
       "    <tr>\n",
       "      <th>0</th>\n",
       "      <td>3.663762</td>\n",
       "      <td>33.0</td>\n",
       "      <td>45.0</td>\n",
       "      <td>3.0</td>\n",
       "      <td>9.0</td>\n",
       "      <td>3.729321</td>\n",
       "      <td>3.675610</td>\n",
       "      <td>4.591342</td>\n",
       "    </tr>\n",
       "    <tr>\n",
       "      <th>0</th>\n",
       "      <td>3.675610</td>\n",
       "      <td>34.0</td>\n",
       "      <td>45.0</td>\n",
       "      <td>3.0</td>\n",
       "      <td>8.0</td>\n",
       "      <td>3.729321</td>\n",
       "      <td>3.677531</td>\n",
       "      <td>4.591342</td>\n",
       "    </tr>\n",
       "    <tr>\n",
       "      <th>0</th>\n",
       "      <td>3.677531</td>\n",
       "      <td>35.0</td>\n",
       "      <td>45.0</td>\n",
       "      <td>3.0</td>\n",
       "      <td>7.0</td>\n",
       "      <td>3.729321</td>\n",
       "      <td>3.821922</td>\n",
       "      <td>4.591342</td>\n",
       "    </tr>\n",
       "    <tr>\n",
       "      <th>0</th>\n",
       "      <td>3.729321</td>\n",
       "      <td>35.0</td>\n",
       "      <td>46.0</td>\n",
       "      <td>3.0</td>\n",
       "      <td>8.0</td>\n",
       "      <td>3.834128</td>\n",
       "      <td>3.821922</td>\n",
       "      <td>4.591342</td>\n",
       "    </tr>\n",
       "    <tr>\n",
       "      <th>0</th>\n",
       "      <td>3.821922</td>\n",
       "      <td>36.0</td>\n",
       "      <td>46.0</td>\n",
       "      <td>3.0</td>\n",
       "      <td>7.0</td>\n",
       "      <td>3.834128</td>\n",
       "      <td>3.853049</td>\n",
       "      <td>3.926268</td>\n",
       "    </tr>\n",
       "    <tr>\n",
       "      <th>0</th>\n",
       "      <td>3.853049</td>\n",
       "      <td>37.0</td>\n",
       "      <td>46.0</td>\n",
       "      <td>3.0</td>\n",
       "      <td>6.0</td>\n",
       "      <td>3.834128</td>\n",
       "      <td>3.859440</td>\n",
       "      <td>4.784569</td>\n",
       "    </tr>\n",
       "    <tr>\n",
       "      <th>0</th>\n",
       "      <td>3.859440</td>\n",
       "      <td>38.0</td>\n",
       "      <td>46.0</td>\n",
       "      <td>3.0</td>\n",
       "      <td>5.0</td>\n",
       "      <td>3.834128</td>\n",
       "      <td>4.016257</td>\n",
       "      <td>4.784569</td>\n",
       "    </tr>\n",
       "    <tr>\n",
       "      <th>0</th>\n",
       "      <td>4.016257</td>\n",
       "      <td>39.0</td>\n",
       "      <td>46.0</td>\n",
       "      <td>3.0</td>\n",
       "      <td>4.0</td>\n",
       "      <td>3.834128</td>\n",
       "      <td>4.119939</td>\n",
       "      <td>4.698200</td>\n",
       "    </tr>\n",
       "    <tr>\n",
       "      <th>0</th>\n",
       "      <td>4.119939</td>\n",
       "      <td>40.0</td>\n",
       "      <td>46.0</td>\n",
       "      <td>3.0</td>\n",
       "      <td>3.0</td>\n",
       "      <td>3.834128</td>\n",
       "      <td>4.140782</td>\n",
       "      <td>4.698200</td>\n",
       "    </tr>\n",
       "    <tr>\n",
       "      <th>0</th>\n",
       "      <td>4.140782</td>\n",
       "      <td>41.0</td>\n",
       "      <td>46.0</td>\n",
       "      <td>3.0</td>\n",
       "      <td>2.0</td>\n",
       "      <td>3.834128</td>\n",
       "      <td>4.200652</td>\n",
       "      <td>4.419838</td>\n",
       "    </tr>\n",
       "    <tr>\n",
       "      <th>0</th>\n",
       "      <td>4.200652</td>\n",
       "      <td>42.0</td>\n",
       "      <td>46.0</td>\n",
       "      <td>3.0</td>\n",
       "      <td>1.0</td>\n",
       "      <td>3.834128</td>\n",
       "      <td>4.484326</td>\n",
       "      <td>4.419838</td>\n",
       "    </tr>\n",
       "    <tr>\n",
       "      <th>0</th>\n",
       "      <td>4.419838</td>\n",
       "      <td>42.0</td>\n",
       "      <td>46.0</td>\n",
       "      <td>4.0</td>\n",
       "      <td>0.0</td>\n",
       "      <td>3.834128</td>\n",
       "      <td>inf</td>\n",
       "      <td>inf</td>\n",
       "    </tr>\n",
       "  </tbody>\n",
       "</table>\n",
       "</div>"
      ],
      "text/plain": [
       "       time  clients lost  clients arrive  clients departed  clients in queue  \\\n",
       "0  0.000000  0.0           0.0             0.0               0.0                \n",
       "0  0.183220  0.0           1.0             0.0               1.0                \n",
       "0  0.207633  1.0           1.0             0.0               0.0                \n",
       "0  0.233355  1.0           2.0             0.0               1.0                \n",
       "0  0.344335  1.0           3.0             0.0               2.0                \n",
       "0  0.365712  2.0           3.0             0.0               1.0                \n",
       "0  0.371384  2.0           4.0             0.0               2.0                \n",
       "0  0.373829  2.0           5.0             0.0               3.0                \n",
       "0  0.447708  3.0           5.0             0.0               2.0                \n",
       "0  0.448545  3.0           5.0             1.0               1.0                \n",
       "0  0.492877  4.0           5.0             1.0               0.0                \n",
       "0  0.669463  4.0           6.0             1.0               1.0                \n",
       "0  0.716580  4.0           7.0             1.0               2.0                \n",
       "0  0.727516  4.0           8.0             1.0               3.0                \n",
       "0  0.770330  4.0           9.0             1.0               4.0                \n",
       "0  0.790586  4.0           10.0            1.0               5.0                \n",
       "0  0.791990  5.0           10.0            1.0               4.0                \n",
       "0  1.048274  5.0           11.0            1.0               5.0                \n",
       "0  1.097815  5.0           12.0            1.0               6.0                \n",
       "0  1.122800  6.0           12.0            1.0               5.0                \n",
       "0  1.212967  6.0           13.0            1.0               6.0                \n",
       "0  1.254506  6.0           14.0            1.0               7.0                \n",
       "0  1.267806  7.0           14.0            1.0               6.0                \n",
       "0  1.305969  8.0           14.0            1.0               5.0                \n",
       "0  1.322111  8.0           15.0            1.0               6.0                \n",
       "0  1.334895  8.0           16.0            1.0               7.0                \n",
       "0  1.347302  9.0           16.0            1.0               6.0                \n",
       "0  1.426054  9.0           17.0            1.0               7.0                \n",
       "0  1.485264  9.0           18.0            1.0               8.0                \n",
       "0  1.537768  10.0          18.0            1.0               7.0                \n",
       "0  1.594848  10.0          19.0            1.0               8.0                \n",
       "0  1.639364  10.0          20.0            1.0               9.0                \n",
       "0  1.650348  11.0          20.0            1.0               8.0                \n",
       "0  1.671517  12.0          20.0            1.0               7.0                \n",
       "0  1.700196  12.0          21.0            1.0               8.0                \n",
       "0  1.723187  13.0          21.0            1.0               7.0                \n",
       "0  1.761781  14.0          21.0            1.0               6.0                \n",
       "0  1.826020  15.0          21.0            1.0               5.0                \n",
       "0  1.856658  15.0          22.0            1.0               6.0                \n",
       "0  1.897281  16.0          22.0            1.0               5.0                \n",
       "0  2.070115  17.0          22.0            1.0               4.0                \n",
       "0  2.083408  18.0          22.0            1.0               3.0                \n",
       "0  2.163057  19.0          22.0            1.0               2.0                \n",
       "0  2.191013  19.0          23.0            1.0               3.0                \n",
       "0  2.225716  19.0          24.0            1.0               4.0                \n",
       "0  2.294040  19.0          25.0            1.0               5.0                \n",
       "0  2.321534  19.0          26.0            1.0               6.0                \n",
       "0  2.417565  19.0          27.0            1.0               7.0                \n",
       "0  2.475541  19.0          28.0            1.0               8.0                \n",
       "0  2.530494  20.0          28.0            1.0               7.0                \n",
       "0  2.544918  20.0          29.0            1.0               8.0                \n",
       "0  2.681517  21.0          29.0            1.0               7.0                \n",
       "0  2.688874  22.0          29.0            1.0               6.0                \n",
       "0  2.739477  22.0          30.0            1.0               7.0                \n",
       "0  2.756442  23.0          30.0            1.0               6.0                \n",
       "0  2.783157  23.0          31.0            1.0               7.0                \n",
       "0  2.808286  23.0          32.0            1.0               8.0                \n",
       "0  2.817843  24.0          32.0            1.0               7.0                \n",
       "0  2.819164  24.0          33.0            1.0               8.0                \n",
       "0  2.872603  24.0          34.0            1.0               9.0                \n",
       "0  2.895219  25.0          34.0            1.0               8.0                \n",
       "0  2.904698  25.0          35.0            1.0               9.0                \n",
       "0  2.962471  25.0          36.0            1.0               10.0               \n",
       "0  2.980964  26.0          36.0            1.0               9.0                \n",
       "0  3.024987  27.0          36.0            1.0               8.0                \n",
       "0  3.048440  27.0          36.0            2.0               7.0                \n",
       "0  3.050097  28.0          36.0            2.0               6.0                \n",
       "0  3.062073  28.0          37.0            2.0               7.0                \n",
       "0  3.081718  28.0          38.0            2.0               8.0                \n",
       "0  3.160943  29.0          38.0            2.0               7.0                \n",
       "0  3.247446  30.0          38.0            2.0               6.0                \n",
       "0  3.247461  30.0          39.0            2.0               7.0                \n",
       "0  3.283072  30.0          40.0            2.0               8.0                \n",
       "0  3.353656  30.0          40.0            3.0               7.0                \n",
       "0  3.358841  30.0          41.0            3.0               8.0                \n",
       "0  3.369269  31.0          41.0            3.0               7.0                \n",
       "0  3.488905  31.0          42.0            3.0               8.0                \n",
       "0  3.494121  31.0          43.0            3.0               9.0                \n",
       "0  3.524783  31.0          44.0            3.0               10.0               \n",
       "0  3.540343  31.0          45.0            3.0               11.0               \n",
       "0  3.626388  32.0          45.0            3.0               10.0               \n",
       "0  3.663762  33.0          45.0            3.0               9.0                \n",
       "0  3.675610  34.0          45.0            3.0               8.0                \n",
       "0  3.677531  35.0          45.0            3.0               7.0                \n",
       "0  3.729321  35.0          46.0            3.0               8.0                \n",
       "0  3.821922  36.0          46.0            3.0               7.0                \n",
       "0  3.853049  37.0          46.0            3.0               6.0                \n",
       "0  3.859440  38.0          46.0            3.0               5.0                \n",
       "0  4.016257  39.0          46.0            3.0               4.0                \n",
       "0  4.119939  40.0          46.0            3.0               3.0                \n",
       "0  4.140782  41.0          46.0            3.0               2.0                \n",
       "0  4.200652  42.0          46.0            3.0               1.0                \n",
       "0  4.419838  42.0          46.0            4.0               0.0                \n",
       "\n",
       "   next arrival  next leave  next departure  \n",
       "0  0.183220      inf         inf             \n",
       "0  0.233355      0.207633    0.314543        \n",
       "0  0.233355      inf         inf             \n",
       "0  0.344335      0.365712    0.614135        \n",
       "0  0.371384      0.365712    0.614135        \n",
       "0  0.371384      0.447708    1.210605        \n",
       "0  0.373829      0.447708    1.210605        \n",
       "0  0.669463      0.447708    1.210605        \n",
       "0  0.669463      0.492877    0.448545        \n",
       "0  0.669463      0.492877    1.418327        \n",
       "0  0.669463      inf         inf             \n",
       "0  0.716580      1.347302    1.398552        \n",
       "0  0.727516      0.791990    1.398552        \n",
       "0  0.770330      0.791990    1.398552        \n",
       "0  0.790586      0.791990    1.398552        \n",
       "0  1.048274      0.791990    1.398552        \n",
       "0  1.048274      1.267806    1.398552        \n",
       "0  1.097815      1.267806    1.398552        \n",
       "0  1.212967      1.122800    1.398552        \n",
       "0  1.212967      1.267806    1.398552        \n",
       "0  1.254506      1.267806    1.398552        \n",
       "0  1.322111      1.267806    1.398552        \n",
       "0  1.322111      1.305969    1.398552        \n",
       "0  1.322111      1.347302    1.398552        \n",
       "0  1.334895      1.347302    1.398552        \n",
       "0  1.426054      1.347302    1.398552        \n",
       "0  1.426054      1.537768    2.202124        \n",
       "0  1.485264      1.537768    2.202124        \n",
       "0  1.594848      1.537768    2.202124        \n",
       "0  1.594848      1.650348    1.959028        \n",
       "0  1.639364      1.650348    1.959028        \n",
       "0  1.700196      1.650348    1.959028        \n",
       "0  1.700196      1.671517    2.337197        \n",
       "0  1.700196      1.761781    2.337197        \n",
       "0  1.856658      1.723187    2.337197        \n",
       "0  1.856658      1.761781    2.337197        \n",
       "0  1.856658      1.826020    2.337197        \n",
       "0  1.856658      1.897281    2.622060        \n",
       "0  2.191013      1.897281    2.622060        \n",
       "0  2.191013      2.070115    2.242892        \n",
       "0  2.191013      2.083408    2.242892        \n",
       "0  2.191013      2.163057    2.242892        \n",
       "0  2.191013      2.530494    2.759820        \n",
       "0  2.225716      2.530494    2.759820        \n",
       "0  2.294040      2.530494    2.759820        \n",
       "0  2.321534      2.530494    2.759820        \n",
       "0  2.417565      2.530494    2.759820        \n",
       "0  2.475541      2.530494    2.759820        \n",
       "0  2.544918      2.530494    2.759820        \n",
       "0  2.544918      2.681517    2.740439        \n",
       "0  2.739477      2.681517    2.740439        \n",
       "0  2.739477      2.688874    2.740439        \n",
       "0  2.739477      2.756442    3.048440        \n",
       "0  2.783157      2.756442    3.048440        \n",
       "0  2.783157      2.895219    3.048440        \n",
       "0  2.808286      2.817843    3.048440        \n",
       "0  2.819164      2.817843    3.048440        \n",
       "0  2.819164      2.895219    3.048440        \n",
       "0  2.872603      2.895219    3.048440        \n",
       "0  2.904698      2.895219    3.048440        \n",
       "0  2.904698      2.980964    3.048440        \n",
       "0  2.962471      2.980964    3.048440        \n",
       "0  3.062073      2.980964    3.048440        \n",
       "0  3.062073      3.024987    3.048440        \n",
       "0  3.062073      3.050097    3.048440        \n",
       "0  3.062073      3.050097    3.149266        \n",
       "0  3.062073      3.160943    3.371900        \n",
       "0  3.081718      3.160943    3.371900        \n",
       "0  3.247461      3.160943    3.371900        \n",
       "0  3.247461      3.247446    3.371900        \n",
       "0  3.247461      3.403585    3.353656        \n",
       "0  3.283072      3.403585    3.353656        \n",
       "0  3.358841      3.403585    3.353656        \n",
       "0  3.358841      3.626388    3.832181        \n",
       "0  3.488905      3.369269    3.832181        \n",
       "0  3.488905      3.626388    3.832181        \n",
       "0  3.494121      3.626388    3.832181        \n",
       "0  3.524783      3.626388    3.832181        \n",
       "0  3.540343      3.626388    3.832181        \n",
       "0  3.729321      3.626388    3.832181        \n",
       "0  3.729321      3.663762    3.832181        \n",
       "0  3.729321      3.675610    4.591342        \n",
       "0  3.729321      3.677531    4.591342        \n",
       "0  3.729321      3.821922    4.591342        \n",
       "0  3.834128      3.821922    4.591342        \n",
       "0  3.834128      3.853049    3.926268        \n",
       "0  3.834128      3.859440    4.784569        \n",
       "0  3.834128      4.016257    4.784569        \n",
       "0  3.834128      4.119939    4.698200        \n",
       "0  3.834128      4.140782    4.698200        \n",
       "0  3.834128      4.200652    4.419838        \n",
       "0  3.834128      4.484326    4.419838        \n",
       "0  3.834128      inf         inf             "
      ]
     },
     "execution_count": 14,
     "metadata": {},
     "output_type": "execute_result"
    }
   ],
   "source": [
    "pd.set_option('display.max_columns', None) \n",
    "pd.set_option('display.max_rows', None)  \n",
    "pd.set_option('display.max_colwidth', -1)\n",
    "server.log.drop(columns=['clients patience', 'client arrival'])"
   ]
  },
  {
   "cell_type": "code",
   "execution_count": 35,
   "metadata": {},
   "outputs": [
    {
     "name": "stderr",
     "output_type": "stream",
     "text": [
      "100%|███████████████████████████████████████████████████████████████████████████| 10000/10000 [01:22<00:00, 120.97it/s]\n"
     ]
    },
    {
     "data": {
      "text/plain": [
       "(146.2209, 152.94430319)"
      ]
     },
     "execution_count": 35,
     "metadata": {},
     "output_type": "execute_result"
    }
   ],
   "source": [
    "server.simulate(10**4)"
   ]
  },
  {
   "cell_type": "markdown",
   "metadata": {},
   "source": [
    "### Question 17"
   ]
  },
  {
   "cell_type": "markdown",
   "metadata": {},
   "source": [
    "Estimate, by a simulation study, the expected worth of owning an option\n",
    "to purchase a stock anytime in the next 20 days for a price of 100 if the\n",
    "present price of the stock is 100. Assume the model of Section 7.8, with\n",
    "µ = −0.05, σ = 0.3, and employ the strategy presented there."
   ]
  },
  {
   "cell_type": "markdown",
   "metadata": {},
   "source": [
    "### Solution:"
   ]
  },
  {
   "cell_type": "code",
   "execution_count": 15,
   "metadata": {},
   "outputs": [],
   "source": [
    "def Fi(x):\n",
    "    a1=0.4361836\n",
    "    a2=-0.1201676\n",
    "    a3=0.9372980\n",
    "    y=1/(1+0.33267*x)\n",
    "    if x>=0:\n",
    "        return 1 - 1/np.sqrt(2*np.pi) * (a1*y+a2*y**2+a3*y**3)*np.exp(-x**2/2)\n",
    "    else:\n",
    "        return 1-Fi(-x)"
   ]
  },
  {
   "cell_type": "code",
   "execution_count": 16,
   "metadata": {},
   "outputs": [],
   "source": [
    "# from scipy.stats import norm\n",
    "class Stock:\n",
    "    \n",
    "    def make_dataframe(self):\n",
    "        df=pd.DataFrame({'Pm' : [np.nan],'condition' : [(np.nan),] })\n",
    "        return df\n",
    "    \n",
    "    def save_episode(self, Pm, conditions):\n",
    "        self.log=self.log.append(pd.DataFrame({'Pm' : Pm ,'condition' : [tuple(conditions)] }))\n",
    "    \n",
    "    def save_dataframe(self):\n",
    "        self.log.to_csv('Stock.txt', index=False, sep='\\t')\n",
    "    \n",
    "    \n",
    "    def generate_price(self):\n",
    "        self.stock_price*=np.exp(np.random.normal(self.mu, self.sigma))\n",
    "    \n",
    "    def __init__(self, sigma=0.3, mu=-0.05, stock_price=100, total_days=20, buying_point=100, log_flag=True):\n",
    "        self.total_days=total_days #N\n",
    "        self.day=0  #m\n",
    "        self.first_stock_price=stock_price  #PN\n",
    "        self.stock_price=stock_price  #Pm\n",
    "        self.sigma=sigma\n",
    "        self.mu=mu\n",
    "        self.alpha=mu+sigma**2/2\n",
    "        self.buying_point=buying_point\n",
    "        self.log_flag=log_flag\n",
    "        if self.log_flag: self.log=self.make_dataframe()\n",
    "        \n",
    "    def check_policy(self):\n",
    "        Pm=self.stock_price\n",
    "        K=self.buying_point\n",
    "        m=self.day\n",
    "#         fi=norm.cdf\n",
    "        fi=Fi\n",
    "        temp=[]\n",
    "                                 \n",
    "        if Pm > K:\n",
    "            for i in range(1,m+1):\n",
    "                bi=(i*self.mu-np.log(K/Pm))/(self.sigma*np.sqrt(i))\n",
    "                condition=K + Pm * np.exp(i*self.alpha) * fi(self.sigma * np.sqrt(i) + bi ) - K * fi(bi)\n",
    "                if self.log_flag: temp.append(condition)\n",
    "                if Pm<=condition:\n",
    "                    if self.log_flag: self.save_episode(Pm, temp)\n",
    "                    return False\n",
    "            \n",
    "            if self.log_flag: self.save_episode(Pm, temp)\n",
    "            return True\n",
    "        \n",
    "        else:\n",
    "            if self.log_flag: self.save_episode(Pm, temp)\n",
    "            return False\n",
    "        \n",
    "    def run(self):\n",
    "        self.stock_price=self.first_stock_price\n",
    "        for i in range(1,self.total_days+1):\n",
    "            self.day=i\n",
    "            self.generate_price()\n",
    "            if self.check_policy():\n",
    "                return self.stock_price\n",
    "        \n",
    "        return self.buying_point\n",
    "    \n",
    "    def simulate(self, nsim):\n",
    "        data=[self.run() for i in tqdm(range(nsim))]\n",
    "        \n",
    "        return np.mean(data)-self.buying_point\n",
    "            \n",
    "        "
   ]
  },
  {
   "cell_type": "code",
   "execution_count": 17,
   "metadata": {},
   "outputs": [
    {
     "data": {
      "text/plain": [
       "100"
      ]
     },
     "execution_count": 17,
     "metadata": {},
     "output_type": "execute_result"
    }
   ],
   "source": [
    "stock=Stock()\n",
    "stock.run()"
   ]
  },
  {
   "cell_type": "code",
   "execution_count": 64,
   "metadata": {},
   "outputs": [
    {
     "data": {
      "text/html": [
       "<div>\n",
       "<style scoped>\n",
       "    .dataframe tbody tr th:only-of-type {\n",
       "        vertical-align: middle;\n",
       "    }\n",
       "\n",
       "    .dataframe tbody tr th {\n",
       "        vertical-align: top;\n",
       "    }\n",
       "\n",
       "    .dataframe thead th {\n",
       "        text-align: right;\n",
       "    }\n",
       "</style>\n",
       "<table border=\"1\" class=\"dataframe\">\n",
       "  <thead>\n",
       "    <tr style=\"text-align: right;\">\n",
       "      <th></th>\n",
       "      <th>Pm</th>\n",
       "      <th>condition</th>\n",
       "    </tr>\n",
       "  </thead>\n",
       "  <tbody>\n",
       "    <tr>\n",
       "      <th>0</th>\n",
       "      <td>NaN</td>\n",
       "      <td>NaN</td>\n",
       "    </tr>\n",
       "    <tr>\n",
       "      <th>0</th>\n",
       "      <td>148.798102</td>\n",
       "      <td>(149.67687623681937,)</td>\n",
       "    </tr>\n",
       "    <tr>\n",
       "      <th>0</th>\n",
       "      <td>145.120033</td>\n",
       "      <td>(146.30436782274836,)</td>\n",
       "    </tr>\n",
       "    <tr>\n",
       "      <th>0</th>\n",
       "      <td>213.724044</td>\n",
       "      <td>(212.74025471674938, 212.53691036879832, 213.05064843406342)</td>\n",
       "    </tr>\n",
       "  </tbody>\n",
       "</table>\n",
       "</div>"
      ],
      "text/plain": [
       "           Pm                                                     condition\n",
       "0 NaN          NaN                                                         \n",
       "0  148.798102  (149.67687623681937,)                                       \n",
       "0  145.120033  (146.30436782274836,)                                       \n",
       "0  213.724044  (212.74025471674938, 212.53691036879832, 213.05064843406342)"
      ]
     },
     "execution_count": 64,
     "metadata": {},
     "output_type": "execute_result"
    }
   ],
   "source": [
    "stock.log"
   ]
  },
  {
   "cell_type": "code",
   "execution_count": 62,
   "metadata": {},
   "outputs": [
    {
     "name": "stderr",
     "output_type": "stream",
     "text": [
      "100%|████████████████████████████████████████████████████████████████████████| 100000/100000 [01:16<00:00, 1306.11it/s]\n"
     ]
    },
    {
     "data": {
      "text/plain": [
       "37.628167711510486"
      ]
     },
     "execution_count": 62,
     "metadata": {},
     "output_type": "execute_result"
    }
   ],
   "source": [
    "stock=Stock(log_flag=False)\n",
    "stock.simulate(10**5)"
   ]
  },
  {
   "cell_type": "markdown",
   "metadata": {},
   "source": [
    "# Chapter 9"
   ]
  },
  {
   "cell_type": "markdown",
   "metadata": {},
   "source": [
    "### Question 5:\n",
    "\n",
    " If $Z$ is a standard normal random variable, design a study using antithetic\n",
    "variables to estimate $\\theta = E[Z^3e^Z ]$."
   ]
  },
  {
   "cell_type": "markdown",
   "metadata": {},
   "source": [
    "### Solutions:\n",
    "If the function $h$ for generating $X = h(Z_1, . . . , Z_k)$ is monotone in each\n",
    "variable, then $X_1$ = $h(Z_1, . . . , Z_k)$ and $X_2 = h(−Z_1, . . . , −Z_k)$ where $Z_i$ is i.i.d $N(0, 1)$ are in\n",
    "fact negatively correlated; $Cov(X1, X2) < 0$."
   ]
  },
  {
   "cell_type": "code",
   "execution_count": 46,
   "metadata": {},
   "outputs": [
    {
     "name": "stdout",
     "output_type": "stream",
     "text": [
      "Normal Distribution with Antithetic Method: (0.0, 0.997555170244634)\n",
      "Normal Normal Distribution: (0.0003296433454306067, 0.9962712786267065)\n"
     ]
    }
   ],
   "source": [
    "temp =np.random.normal(0,1,5*10**5)\n",
    "data=[]\n",
    "for i in temp:\n",
    "    data.append(i) \n",
    "    data.append(-i)\n",
    "print(\"Normal Distribution with Antithetic Method:\", (np.mean(data),np.var(data)))\n",
    "\n",
    "data_normal=np.random.normal(0,1,10**6)\n",
    "print(\"Normal Normal Distribution:\", (np.mean(data_normal),np.var(data_normal)))"
   ]
  },
  {
   "cell_type": "code",
   "execution_count": 51,
   "metadata": {},
   "outputs": [
    {
     "data": {
      "text/plain": [
       "[Text(0.5, 0, 'Normal Distribution'), Text(0, 0.5, 'Frequency')]"
      ]
     },
     "execution_count": 51,
     "metadata": {},
     "output_type": "execute_result"
    },
    {
     "data": {
      "image/png": "[encoded data removed]",
      "text/plain": [
       "<Figure size 360x360 with 1 Axes>"
      ]
     },
     "metadata": {},
     "output_type": "display_data"
    }
   ],
   "source": [
    "ax = sns.distplot(data,\n",
    "                  kde=True,\n",
    "                  color=\"green\",\n",
    "                  hist=True,\n",
    "                  hist_kws={\"density\":True, \"linewidth\": 1,'alpha':1},\n",
    "                  norm_hist=True)\n",
    "ax.set(xlabel='Normal Distribution', ylabel='Frequency')\n",
    "\n",
    "bx = sns.distplot(data_normal,\n",
    "                  kde=True,\n",
    "                  color=\"skyblue\",\n",
    "                  hist=True,\n",
    "                  hist_kws={\"density\":True, \"linewidth\": 3,'alpha':1},\n",
    "                  norm_hist=True)\n",
    "bx.set(xlabel='Normal Distribution', ylabel='Frequency')"
   ]
  },
  {
   "cell_type": "markdown",
   "metadata": {},
   "source": [
    "So for $E[Z^3e^Z]$"
   ]
  },
  {
   "cell_type": "code",
   "execution_count": 17,
   "metadata": {},
   "outputs": [
    {
     "name": "stdout",
     "output_type": "stream",
     "text": [
      "6.549539506490082 3184.527097504973\n"
     ]
    }
   ],
   "source": [
    "temp =np.random.normal(0,1,5*10**5)\n",
    "data=[]\n",
    "for z in temp:\n",
    "    data.append(z**3*np.exp(z)) \n",
    "    data.append(-z**3*np.exp(-z))\n",
    "print(np.mean(data),np.var(data))"
   ]
  },
  {
   "cell_type": "code",
   "execution_count": 18,
   "metadata": {},
   "outputs": [
    {
     "name": "stdout",
     "output_type": "stream",
     "text": [
      "6.600821842759773 3480.3922570431423\n"
     ]
    }
   ],
   "source": [
    "temp=np.random.normal(0,1,10**6)\n",
    "data_normal=[z**3*np.exp(z) for z in temp]\n",
    "print(np.mean(data_normal),np.var(data_normal))"
   ]
  },
  {
   "cell_type": "markdown",
   "metadata": {},
   "source": [
    "# Ising Model"
   ]
  },
  {
   "cell_type": "markdown",
   "metadata": {},
   "source": [
    "The following code simulates the Ising model in 2D using the Metropolis algorithm. The main steps of Metropolis algorithm are:\n",
    "<ol>\n",
    "<li>Prepare an initial configuration of N spins</li>\n",
    "<li>Flip the spin of a randomly chosen lattice site. </li>\n",
    "<li>Calculate the change in energy $deg = -2\\beta\\sum\\limits_{i \\leftrightarrow j}J\\sigma_i \\sigma_j.$ </li>\n",
    "<li>Generate U~Unif[0,1]</li>\n",
    "<li>p=$\\frac{1}{1+e^{deg}}$, If $U<p$, change the spin to 1. Otherwise change it to -1 </li>\n",
    "<li>Repeat 2-5.</li>\n",
    "</ol>\n",
    "In the code below, we have estimated and plotted energy, magnetization, specific heat and susceptibility of the system."
   ]
  },
  {
   "cell_type": "code",
   "execution_count": 47,
   "metadata": {},
   "outputs": [],
   "source": [
    "class Ising():\n",
    "    \n",
    "    def __init__(self, N=64, beta=1/(0.4),J=1, H=0.0):\n",
    "        self.N=N\n",
    "        self.state=self.initialstate()\n",
    "        self.beta=beta\n",
    "        # let's make J constant because it would make the code complex real fast\n",
    "        self.J=J\n",
    "        # let's make H constant also\n",
    "        self.H=H\n",
    "        \n",
    "        \n",
    "    def initialstate(self):   \n",
    "        ''' generates a random spin configuration for initial condition'''\n",
    "        \n",
    "        # 2*bit(0 or 1) -1 => -1 or 1\n",
    "        state = 2*np.random.randint(2, size=(self.N,self.N))-1 \n",
    "        return state\n",
    "\n",
    "\n",
    "    def move(self):\n",
    "        '''Monte Carlo move using Metropolis algorithm '''\n",
    "        # Randomly pick a point\n",
    "        i = np.random.randint(0, self.N)\n",
    "        j = np.random.randint(0, self.N)\n",
    "        s =  self.state[i, j]\n",
    "        \n",
    "        # The end points of the grid are also connect, hence ()%N\n",
    "        sum_sigma = self.state[(i+1)%self.N,j] + self.state[i,(j+1)%self.N] + self.state[(i-1)%self.N,j] + self.state[i,(j-1)%self.N]\n",
    "        deg = -2*self.beta*sum_sigma*self.J\n",
    "        \n",
    "        # Making a Uniform U and comparing with P\n",
    "        condition=random.random()\n",
    "        p=1/(1+np.exp(deg))\n",
    "        if condition<p:\n",
    "            s=1\n",
    "        else:\n",
    "            s=-1\n",
    "        \n",
    "        self.state[i, j] = s\n",
    "        return self.state\n",
    "\n",
    "\n",
    "    def calcEnergy(self):\n",
    "        '''Energy of a given configuration'''\n",
    "        energy = 0\n",
    "        temp=0\n",
    "        for i in range(self.N):\n",
    "            for j in range(self.N):\n",
    "                S = self.state[i,j]\n",
    "                \n",
    "                #  Sum J_{i,j} * sigma_{i+1,j} * sigma_{i,j+1}\n",
    "                sum_sigma = self.state[(i+1)%self.N,j] + self.state[i,(j+1)%self.N]\n",
    "                energy += -sum_sigma*S\n",
    "                \n",
    "                # Sum H * sigma_{i,j}\n",
    "                temp+= S\n",
    "                \n",
    "        # energy = energy*J - temp*H*Mu\n",
    "        # temp is equal to Mu (see clacMag)\n",
    "        \n",
    "        energy= energy*self.J - self.H*(temp)**2\n",
    "        \n",
    "        return energy\n",
    "\n",
    "\n",
    "    def calcMag(self):\n",
    "        '''Magnetization of a given configuration'''\n",
    "        # Sum states\n",
    "        mag = np.sum(self.state)\n",
    "        return mag\n",
    "    \n",
    "    def sweep(self):\n",
    "        # hopefully moving n^2 times will give us a full sweep (all sigma_{ij}s are changed)\n",
    "        for i in range(self.N**2):\n",
    "            self.move()\n",
    "    \n",
    "    def simulate(self,nsim=1000):\n",
    "        ''' This module simulates the Ising model'''\n",
    "        f = plt.figure(figsize=(15, 15), dpi=80);    \n",
    "        self.configPlot(f, 0, 1);\n",
    "        \n",
    "        for i in range(nsim+1):\n",
    "            self.sweep()\n",
    "            if i == int(nsim/6):        self.configPlot(f, i, 2);\n",
    "            elif i == int(nsim/3):      self.configPlot(f, i, 3);\n",
    "            elif i == int(nsim/2):      self.configPlot(f, i, 4);\n",
    "            elif i == int(2*nsim/3):    self.configPlot(f, i, 5);\n",
    "            elif i == nsim:             self.configPlot(f, i, 6);\n",
    "                 \n",
    "                    \n",
    "    def configPlot(self, f, i, n):\n",
    "        ''' This modules plts the configuration once passed to it along with time etc '''\n",
    "        X, Y = np.meshgrid(range(self.N), range(self.N))\n",
    "        sp =  f.add_subplot(3, 3, n )  \n",
    "        plt.setp(sp.get_yticklabels(), visible=False)\n",
    "        plt.setp(sp.get_xticklabels(), visible=False)      \n",
    "        plt.pcolormesh(X, Y, self.state, cmap=plt.cm.RdBu);\n",
    "        plt.title('Time=%d'%i); plt.axis('tight')    \n",
    "    plt.show()\n"
   ]
  },
  {
   "cell_type": "code",
   "execution_count": 46,
   "metadata": {
    "scrolled": false
   },
   "outputs": [
    {
     "name": "stderr",
     "output_type": "stream",
     "text": [
      "c:\\python37\\lib\\site-packages\\ipykernel_launcher.py:96: MatplotlibDeprecationWarning: shading='flat' when X and Y have the same dimensions as C is deprecated since 3.3.  Either specify the corners of the quadrilaterals with X and Y, or pass shading='auto', 'nearest' or 'gouraud', or set rcParams['pcolor.shading'].  This will become an error two minor releases later.\n"
     ]
    },
    {
     "data": {
      "image/png": "[encoded data removed]",
      "text/plain": [
       "<Figure size 1200x1200 with 6 Axes>"
      ]
     },
     "metadata": {},
     "output_type": "display_data"
    }
   ],
   "source": [
    "test=Ising(N=60, beta=np.log(1+2**0.5)/2)\n",
    "test.simulate(nsim=10**2) # the book said a good result is with 100,000 "
   ]
  },
  {
   "cell_type": "markdown",
   "metadata": {},
   "source": [
    "# Coupon Collector"
   ]
  },
  {
   "cell_type": "markdown",
   "metadata": {},
   "source": [
    "As mentioned in the class all we need to do is keep track of $T+\\alpha(n-\\sum p_iT_i)$ and $n + T - \\sum p_iT_i$"
   ]
  },
  {
   "cell_type": "code",
   "execution_count": 19,
   "metadata": {},
   "outputs": [],
   "source": [
    "class CouponCollector():\n",
    "    def make_dataframe(self):\n",
    "        df=pd.DataFrame({'T' : [np.nan],'Sum piTi' : [np.nan],'n' : self.n ,\n",
    "                         'r' : [self.r],'ni' : [self.ni],'pi' : [self.pi]})\n",
    "        return df\n",
    "    \n",
    "    def save_episode(self, T, sum_piTi):\n",
    "        self.log=self.log.append(pd.DataFrame({'T' : [T],'Sum piTi' : [sum_piTi],'n' : self.n ,\n",
    "                                                  'r' : [self.r],'ni' : [self.ni],'pi' : [self.pi]}))\n",
    "    \n",
    "    def save_dataframe(self):\n",
    "        self.log.to_csv('CouponCollector.txt', index=False, sep='\\t')\n",
    "        \n",
    "        \n",
    "    def __init__(self,ni,pi, log_flag=True):\n",
    "        assert len(ni)==len(pi)\n",
    "        assert sum(pi)==1\n",
    "        self.n=sum(ni)\n",
    "        self.r=len(ni)\n",
    "        self.ni=ni\n",
    "        self.pi=pi\n",
    "        \n",
    "        self.log_flag=log_flag\n",
    "        if self.log_flag: self.log=self.make_dataframe()\n",
    "        \n",
    "    def run(self):\n",
    "        Ti=[]\n",
    "        for i in range(self.r):\n",
    "            Ti.append(np.random.gamma(self.ni[i],1/self.pi[i]))  # input: alpha and 1/beta\n",
    "            \n",
    "        T=max(Ti)\n",
    "        piTi=[p*t for (p,t) in zip(Ti, self.pi)]\n",
    "        sum_piTi=sum(piTi)\n",
    "        if self.log_flag: self.save_episode(T,sum_piTi)\n",
    "        return (T,sum_piTi)\n",
    "        \n",
    "    def simulate(self, nsim):\n",
    "        data=[self.run() for i in tqdm(range(nsim))]\n",
    "        N=[self.n + T - sum_piTi for (T , sum_piTi) in data]\n",
    "        return (np.mean(N),np.var(N))\n",
    "        \n",
    "    def calcAlpha(self, nsim):\n",
    "        data=[self.run() for i in tqdm(range(nsim))]\n",
    "        unzip_data=list(zip(*data))\n",
    "#         print(unzip_data[0][:100],unzip_data[0][:100])\n",
    "        #                 T          sum piTi\n",
    "        return np.cov(unzip_data[0],unzip_data[1])[0][1]/np.var(unzip_data[1])  # np.cov return cov matrix\n",
    "    \n",
    "    def simulate_control_variates(self, nsim):\n",
    "        alpha=self.calcAlpha(1000)\n",
    "#         print(alpha)\n",
    "        data=[self.run() for i in tqdm(range(nsim))]\n",
    "        N=[T+alpha*(self.n-sum_piTi) for (T , sum_piTi) in data]\n",
    "        return (np.mean(N),np.var(N))\n",
    "       "
   ]
  },
  {
   "cell_type": "code",
   "execution_count": 62,
   "metadata": {},
   "outputs": [],
   "source": [
    "def simple_simulation(n):\n",
    "    \"\"\"\n",
    "    n: number of different coupons (stamps)\n",
    "    return: days it took to achieve such goal\n",
    "    \"\"\"\n",
    "    days = 0\n",
    "    collected = set()\n",
    "    while True:\n",
    "        # check if we have enough\n",
    "        if len(collected) == n:\n",
    "            break\n",
    "        # we try to collect stamps\n",
    "        got = np.random.randint(0, n)  # choose a stamp, randomly 1/n\n",
    "        days += 1\n",
    "        collected.add(got)\n",
    "\n",
    "    return days"
   ]
  },
  {
   "cell_type": "code",
   "execution_count": 20,
   "metadata": {},
   "outputs": [],
   "source": [
    "test=CouponCollector([1,4,9,16,25],[0.2]*5)"
   ]
  },
  {
   "cell_type": "code",
   "execution_count": 21,
   "metadata": {},
   "outputs": [
    {
     "data": {
      "text/html": [
       "<div>\n",
       "<style scoped>\n",
       "    .dataframe tbody tr th:only-of-type {\n",
       "        vertical-align: middle;\n",
       "    }\n",
       "\n",
       "    .dataframe tbody tr th {\n",
       "        vertical-align: top;\n",
       "    }\n",
       "\n",
       "    .dataframe thead th {\n",
       "        text-align: right;\n",
       "    }\n",
       "</style>\n",
       "<table border=\"1\" class=\"dataframe\">\n",
       "  <thead>\n",
       "    <tr style=\"text-align: right;\">\n",
       "      <th></th>\n",
       "      <th>T</th>\n",
       "      <th>Sum piTi</th>\n",
       "      <th>n</th>\n",
       "      <th>r</th>\n",
       "      <th>ni</th>\n",
       "      <th>pi</th>\n",
       "    </tr>\n",
       "  </thead>\n",
       "  <tbody>\n",
       "    <tr>\n",
       "      <th>0</th>\n",
       "      <td>NaN</td>\n",
       "      <td>NaN</td>\n",
       "      <td>55</td>\n",
       "      <td>5</td>\n",
       "      <td>[1, 4, 9, 16, 25]</td>\n",
       "      <td>[0.2, 0.2, 0.2, 0.2, 0.2]</td>\n",
       "    </tr>\n",
       "    <tr>\n",
       "      <th>0</th>\n",
       "      <td>119.647816</td>\n",
       "      <td>49.792469</td>\n",
       "      <td>55</td>\n",
       "      <td>5</td>\n",
       "      <td>[1, 4, 9, 16, 25]</td>\n",
       "      <td>[0.2, 0.2, 0.2, 0.2, 0.2]</td>\n",
       "    </tr>\n",
       "    <tr>\n",
       "      <th>0</th>\n",
       "      <td>118.112038</td>\n",
       "      <td>48.948744</td>\n",
       "      <td>55</td>\n",
       "      <td>5</td>\n",
       "      <td>[1, 4, 9, 16, 25]</td>\n",
       "      <td>[0.2, 0.2, 0.2, 0.2, 0.2]</td>\n",
       "    </tr>\n",
       "    <tr>\n",
       "      <th>0</th>\n",
       "      <td>174.090903</td>\n",
       "      <td>64.308606</td>\n",
       "      <td>55</td>\n",
       "      <td>5</td>\n",
       "      <td>[1, 4, 9, 16, 25]</td>\n",
       "      <td>[0.2, 0.2, 0.2, 0.2, 0.2]</td>\n",
       "    </tr>\n",
       "    <tr>\n",
       "      <th>0</th>\n",
       "      <td>137.519021</td>\n",
       "      <td>68.939790</td>\n",
       "      <td>55</td>\n",
       "      <td>5</td>\n",
       "      <td>[1, 4, 9, 16, 25]</td>\n",
       "      <td>[0.2, 0.2, 0.2, 0.2, 0.2]</td>\n",
       "    </tr>\n",
       "    <tr>\n",
       "      <th>0</th>\n",
       "      <td>123.359781</td>\n",
       "      <td>52.183282</td>\n",
       "      <td>55</td>\n",
       "      <td>5</td>\n",
       "      <td>[1, 4, 9, 16, 25]</td>\n",
       "      <td>[0.2, 0.2, 0.2, 0.2, 0.2]</td>\n",
       "    </tr>\n",
       "    <tr>\n",
       "      <th>0</th>\n",
       "      <td>115.285059</td>\n",
       "      <td>57.666507</td>\n",
       "      <td>55</td>\n",
       "      <td>5</td>\n",
       "      <td>[1, 4, 9, 16, 25]</td>\n",
       "      <td>[0.2, 0.2, 0.2, 0.2, 0.2]</td>\n",
       "    </tr>\n",
       "    <tr>\n",
       "      <th>0</th>\n",
       "      <td>106.542987</td>\n",
       "      <td>58.300923</td>\n",
       "      <td>55</td>\n",
       "      <td>5</td>\n",
       "      <td>[1, 4, 9, 16, 25]</td>\n",
       "      <td>[0.2, 0.2, 0.2, 0.2, 0.2]</td>\n",
       "    </tr>\n",
       "    <tr>\n",
       "      <th>0</th>\n",
       "      <td>126.291222</td>\n",
       "      <td>50.034245</td>\n",
       "      <td>55</td>\n",
       "      <td>5</td>\n",
       "      <td>[1, 4, 9, 16, 25]</td>\n",
       "      <td>[0.2, 0.2, 0.2, 0.2, 0.2]</td>\n",
       "    </tr>\n",
       "    <tr>\n",
       "      <th>0</th>\n",
       "      <td>120.044663</td>\n",
       "      <td>49.239845</td>\n",
       "      <td>55</td>\n",
       "      <td>5</td>\n",
       "      <td>[1, 4, 9, 16, 25]</td>\n",
       "      <td>[0.2, 0.2, 0.2, 0.2, 0.2]</td>\n",
       "    </tr>\n",
       "    <tr>\n",
       "      <th>0</th>\n",
       "      <td>115.181988</td>\n",
       "      <td>52.154421</td>\n",
       "      <td>55</td>\n",
       "      <td>5</td>\n",
       "      <td>[1, 4, 9, 16, 25]</td>\n",
       "      <td>[0.2, 0.2, 0.2, 0.2, 0.2]</td>\n",
       "    </tr>\n",
       "  </tbody>\n",
       "</table>\n",
       "</div>"
      ],
      "text/plain": [
       "            T   Sum piTi   n  r                 ni                         pi\n",
       "0 NaN         NaN         55  5  [1, 4, 9, 16, 25]  [0.2, 0.2, 0.2, 0.2, 0.2]\n",
       "0  119.647816  49.792469  55  5  [1, 4, 9, 16, 25]  [0.2, 0.2, 0.2, 0.2, 0.2]\n",
       "0  118.112038  48.948744  55  5  [1, 4, 9, 16, 25]  [0.2, 0.2, 0.2, 0.2, 0.2]\n",
       "0  174.090903  64.308606  55  5  [1, 4, 9, 16, 25]  [0.2, 0.2, 0.2, 0.2, 0.2]\n",
       "0  137.519021  68.939790  55  5  [1, 4, 9, 16, 25]  [0.2, 0.2, 0.2, 0.2, 0.2]\n",
       "0  123.359781  52.183282  55  5  [1, 4, 9, 16, 25]  [0.2, 0.2, 0.2, 0.2, 0.2]\n",
       "0  115.285059  57.666507  55  5  [1, 4, 9, 16, 25]  [0.2, 0.2, 0.2, 0.2, 0.2]\n",
       "0  106.542987  58.300923  55  5  [1, 4, 9, 16, 25]  [0.2, 0.2, 0.2, 0.2, 0.2]\n",
       "0  126.291222  50.034245  55  5  [1, 4, 9, 16, 25]  [0.2, 0.2, 0.2, 0.2, 0.2]\n",
       "0  120.044663  49.239845  55  5  [1, 4, 9, 16, 25]  [0.2, 0.2, 0.2, 0.2, 0.2]\n",
       "0  115.181988  52.154421  55  5  [1, 4, 9, 16, 25]  [0.2, 0.2, 0.2, 0.2, 0.2]"
      ]
     },
     "execution_count": 21,
     "metadata": {},
     "output_type": "execute_result"
    }
   ],
   "source": [
    "[test.run() for i in range(10)]\n",
    "test.log"
   ]
  },
  {
   "cell_type": "code",
   "execution_count": 22,
   "metadata": {},
   "outputs": [
    {
     "name": "stderr",
     "output_type": "stream",
     "text": [
      "100%|█████████████████████████████████████████████████████████████████████████████████| 10/10 [00:00<00:00, 773.30it/s]\n"
     ]
    },
    {
     "data": {
      "text/plain": [
       "(125.97096482200944, 306.063094506772)"
      ]
     },
     "execution_count": 22,
     "metadata": {},
     "output_type": "execute_result"
    }
   ],
   "source": [
    "test.simulate(10) #with gamma dist"
   ]
  },
  {
   "cell_type": "code",
   "execution_count": 63,
   "metadata": {},
   "outputs": [
    {
     "name": "stderr",
     "output_type": "stream",
     "text": [
      "100%|████████████████████████████████████████████████████████████████████████████| 1000/1000 [00:00<00:00, 8297.57it/s]"
     ]
    },
    {
     "name": "stdout",
     "output_type": "stream",
     "text": [
      "8.31 14.4199\n"
     ]
    },
    {
     "name": "stderr",
     "output_type": "stream",
     "text": [
      "\n"
     ]
    }
   ],
   "source": [
    "n=10**3\n",
    "data=[simple_simulation(4) for i in tqdm(range(n))]\n",
    "print(np.mean(data),np.var(data)) # normal simulation"
   ]
  },
  {
   "cell_type": "code",
   "execution_count": 68,
   "metadata": {},
   "outputs": [
    {
     "name": "stderr",
     "output_type": "stream",
     "text": [
      "100%|█████████████████████████████████████████████████████████████████████████████| 1000/1000 [00:03<00:00, 291.44it/s]\n",
      "100%|█████████████████████████████████████████████████████████████████████████████| 1000/1000 [00:03<00:00, 301.49it/s]\n"
     ]
    },
    {
     "data": {
      "text/plain": [
       "(8.390249895177925, 4.994933609413791)"
      ]
     },
     "execution_count": 68,
     "metadata": {},
     "output_type": "execute_result"
    }
   ],
   "source": [
    "test.simulate_control_variates(1000) # gamma dist. with control variates"
   ]
  },
  {
   "cell_type": "markdown",
   "metadata": {},
   "source": [
    "# List Ordering"
   ]
  },
  {
   "cell_type": "markdown",
   "metadata": {},
   "source": [
    "It turns out that writing the simulation of this exercise is a bit harder, I still tried to make it as coherent as possible but there are some technical things I had to keep in mind especially when working with lists in python since they are mutable, so I have also have stored a copy of each list.\n",
    "\n",
    "The process is straight forward we just have to compute $\\sum\\limits_{r=1}^{N}P_r^i/N - \\alpha^i * (\\sum\\limits_{r=1}^{N}U_r - N/2)$ where $P_r^i$ the position of the $i$th item of the list in $r$th request."
   ]
  },
  {
   "cell_type": "code",
   "execution_count": 36,
   "metadata": {},
   "outputs": [],
   "source": [
    "class ListOrdering():\n",
    "    def make_dataframe(self):\n",
    "        df=pd.DataFrame({'Random U' : [np.nan],'request' : [np.nan], 'List' : [self.first_list[:]],\n",
    "                         'P' : [self.first_P[:]],'n' : self.n , 'r' : [self.r]})\n",
    "        return df\n",
    "    \n",
    "    def save_episode(self, i, U, flag):\n",
    "        self.log=self.log.append(pd.DataFrame({'Random U' : U , 'request' : [self.list[i+1 if i<self.n-1 else self.n-1]], 'List' : [self.list[:]],\n",
    "                                               'P' : [self.P[:] if flag else self.first_P[:]],'n' : self.n , 'r' : [self.r]}))\n",
    "    \n",
    "    def save_dataframe(self):\n",
    "        self.log.to_csv('ListOrdering.txt', index=False, sep='\\t')\n",
    "    \n",
    "    def make_random_list(self,n):\n",
    "        List=list(range(n))\n",
    "        random.shuffle(List)\n",
    "        return List\n",
    "    \n",
    "    def __init__(self,r=1000, P=[0.01,0.01,0.01,0.01,0.01,0.01,0.01,0.01,0.01,0.9], List=list(range(0,11)), random_list=False, n=11, debug=True):\n",
    "        assert len(P)==len(List)\n",
    "        # The number of requests\n",
    "        self.r=r\n",
    "        \n",
    "        # List first Order\n",
    "        if random_list:\n",
    "            self.first_list=self.make_random_list(n)\n",
    "        else:\n",
    "            self.first_list=List[:]\n",
    "        \n",
    "        # List Order, for keeping the initail order of the list \n",
    "        # and not accidently changing it we make a copy and use that instead\n",
    "        self.list=self.first_list[:]\n",
    "        \n",
    "        # Probability Vector\n",
    "        self.first_P=P[:]\n",
    "        self.P=self.first_P[:]\n",
    "        \n",
    "        #Length of the list\n",
    "        self.n=len(self.list)\n",
    "        \n",
    "        # To track the position of each item in the list we will make a dictionary \n",
    "        # with the keys as items in the list and values of a list of their position in a run\n",
    "        # just remeber that for convinience positions start from 0 to self.n-1\n",
    "        # We only need to track the sum of the positions\n",
    "        \n",
    "        # items first positions\n",
    "        self.first_position=self.position=dict((self.first_list[i],0) for i in range(self.n))\n",
    "        \n",
    "        # items current positions summations\n",
    "        self.sum_position=self.first_position.copy()\n",
    "        \n",
    "        \n",
    "        # For debuging\n",
    "        self.debug=debug\n",
    "        if self.debug:\n",
    "            # track positions\n",
    "            self.position=dict((self.first_list[i],[i]) for i in range(self.n))\n",
    "            #log\n",
    "            self.log=self.make_dataframe()\n",
    "    \n",
    "    def sort_list(self,i):\n",
    "        if i!=self.n-1:\n",
    "            self.list=self.list[0:i]+[self.list[i+1]]+[self.list[i]]+self.list[i+2:]\n",
    "    \n",
    "    def sort_P(self,i):\n",
    "        if i!=self.n-1:\n",
    "            self.P=self.P[0:i]+[self.P[i+1]]+[self.P[i]]+self.P[i+2:]\n",
    "    \n",
    "    def generate_request(self,U):\n",
    "        for i in range(self.n):\n",
    "            if U<=sum(self.first_P[:i+1]):\n",
    "                # we look into the first order of listing and pick the ith item but where it is in the current list has changed\n",
    "                # so we look in the first list to get the item and then find the index in the current list\n",
    "                return self.list.index(self.first_list[i])\n",
    "            \n",
    "    def generate_request_control_variates(self,U):\n",
    "        for i in range(self.n):\n",
    "            if U<=sum(self.P[:i+1]):\n",
    "                # Here we know each index of P and list are the same so we already know the index\n",
    "                return i\n",
    "    \n",
    "    def track_positions(self):\n",
    "        for i in self.first_list:\n",
    "            self.position[i].append(self.list.index(i))\n",
    "    \n",
    "    def track_sum_positions(self):\n",
    "        for i in self.first_list:\n",
    "            self.sum_position[i]+=self.list.index(i)\n",
    "    \n",
    "    def run(self, control_variates_flag=False):\n",
    "        # resetting any pervious run \n",
    "        self.list=self.first_list[:]\n",
    "        self.P=self.first_P[:]\n",
    "        self.sum_position=self.first_position.copy()\n",
    "        Ur=[]\n",
    "        \n",
    "        for j in range(self.r):\n",
    "            Ur.append(random.random())\n",
    "            \n",
    "            # generating a request for an item\n",
    "            if control_variates_flag:\n",
    "                i=self.generate_request_control_variates(Ur[j])\n",
    "            else:\n",
    "                i=self.generate_request(Ur[j])\n",
    "                \n",
    "            # sorting the list after a request for item in i position    \n",
    "            self.sort_list(i)\n",
    "            # sorting the P after a request for item in i position (Only affects the output is control_variates_flag is on)\n",
    "            self.sort_P(i)\n",
    "            # tracking the summation of each items positions \n",
    "            self.track_sum_positions()\n",
    "            \n",
    "            # For Debuging\n",
    "            if self.debug: \n",
    "                self.track_positions()\n",
    "                self.save_episode(i, Ur[j], control_variates_flag)\n",
    "                \n",
    "        return (sum(Ur), self.sum_position, self.list[:])\n",
    "            \n",
    "    def calcAlpha(self, nsim):\n",
    "        self.debug=False\n",
    "        data=[self.run(control_variates_flag=True) for i in tqdm(range(nsim))]\n",
    "        unzip_data=list(zip(*data))\n",
    "#         print(unzip_data[0] ,unzip_data[1])\n",
    "        cov=[]\n",
    "        for i in self.first_list:\n",
    "            cov.append(\n",
    "                #                    sum Ur                  sum Positions of item i\n",
    "                np.cov([Ur for Ur in unzip_data[0]],[dic[i] for dic in unzip_data[1]])[0][1]/self.r/12)  # np.cov return cov matrix\n",
    "        \n",
    "        return cov\n",
    "    \n",
    "    def simiulate(self,nsim,control_variates_flag=False):\n",
    "        self.debug=False\n",
    "        data=[self.run(control_variates_flag=control_variates_flag) for i in tqdm(range(nsim))]\n",
    "        mean=[]\n",
    "        var=[]\n",
    "        if control_variates_flag:\n",
    "            alpha=self.calcAlpha(1000)\n",
    "        for i in self.first_list:\n",
    "            if control_variates_flag:\n",
    "                X=[dict_sum_Pr[i]/self.r - alpha[i] * (sum_Ur - self.r/2) for (sum_Ur , dict_sum_Pr, last_position) in data]\n",
    "                \n",
    "            else:\n",
    "                X=[last_position.index(i) for (sum_Ur , dict_sum_Pr, last_position) in data]\n",
    "            \n",
    "            mean.append(np.mean(X))\n",
    "            var.append(np.var(X))\n",
    "            \n",
    "        \n",
    "        return list(zip(mean,var))\n",
    "    \n",
    "    def sum_positions(self, nsim, control_variates_flag=False):\n",
    "        self.debug=False\n",
    "        data=[self.run(control_variates_flag=control_variates_flag) for i in tqdm(range(nsim))]\n",
    "        return data\n",
    "    \n",
    "\n",
    "\n",
    "    "
   ]
  },
  {
   "cell_type": "code",
   "execution_count": 32,
   "metadata": {},
   "outputs": [
    {
     "data": {
      "text/plain": [
       "1.0"
      ]
     },
     "execution_count": 32,
     "metadata": {},
     "output_type": "execute_result"
    }
   ],
   "source": [
    "P=[0.01,0.01,0.01,0.01,0.01,0.01,0.01,0.01,0.01,0.01,0.9]\n",
    "sum(P)"
   ]
  },
  {
   "cell_type": "code",
   "execution_count": 38,
   "metadata": {},
   "outputs": [
    {
     "name": "stderr",
     "output_type": "stream",
     "text": [
      "\n",
      "100%|███████████████████████████████████████████████████████████████████████████████████| 1/1 [00:00<00:00, 122.29it/s]\u001b[A\n"
     ]
    },
    {
     "data": {
      "text/plain": [
       "55000"
      ]
     },
     "execution_count": 38,
     "metadata": {},
     "output_type": "execute_result"
    }
   ],
   "source": [
    "server=ListOrdering(P=[0.01,0.01,0.01,0.01,0.01,0.01,0.01,0.01,0.01,0.01,0.9], n=11, List=list(range(1,12)))\n",
    "data=server.sum_positions(1)\n",
    "sum(data[0][1].values())"
   ]
  },
  {
   "cell_type": "code",
   "execution_count": 40,
   "metadata": {},
   "outputs": [
    {
     "data": {
      "text/plain": [
       "[1, 2, 3, 4, 5, 6, 7, 8, 9, 10, 11]"
      ]
     },
     "execution_count": 40,
     "metadata": {},
     "output_type": "execute_result"
    }
   ],
   "source": [
    "list(range(1,12))"
   ]
  },
  {
   "cell_type": "code",
   "execution_count": 25,
   "metadata": {},
   "outputs": [
    {
     "data": {
      "text/plain": [
       "[(1, 1), (2, 2), (3, 3)]"
      ]
     },
     "execution_count": 25,
     "metadata": {},
     "output_type": "execute_result"
    }
   ],
   "source": [
    "a=[[1,2,3],[1,2,3]]\n",
    "list(zip(*a))"
   ]
  },
  {
   "cell_type": "code",
   "execution_count": 26,
   "metadata": {},
   "outputs": [
    {
     "ename": "AssertionError",
     "evalue": "",
     "output_type": "error",
     "traceback": [
      "\u001b[1;31m---------------------------------------------------------------------------\u001b[0m",
      "\u001b[1;31mAssertionError\u001b[0m                            Traceback (most recent call last)",
      "\u001b[1;32m<ipython-input-26-981fd9056a78>\u001b[0m in \u001b[0;36m<module>\u001b[1;34m\u001b[0m\n\u001b[1;32m----> 1\u001b[1;33m \u001b[0mserver\u001b[0m\u001b[1;33m=\u001b[0m\u001b[0mListOrdering\u001b[0m\u001b[1;33m(\u001b[0m\u001b[0mP\u001b[0m\u001b[1;33m=\u001b[0m\u001b[1;33m[\u001b[0m\u001b[1;36m0.01\u001b[0m\u001b[1;33m,\u001b[0m\u001b[1;36m0.01\u001b[0m\u001b[1;33m,\u001b[0m\u001b[1;36m0.01\u001b[0m\u001b[1;33m,\u001b[0m\u001b[1;36m0.01\u001b[0m\u001b[1;33m,\u001b[0m\u001b[1;36m0.01\u001b[0m\u001b[1;33m,\u001b[0m\u001b[1;36m0.01\u001b[0m\u001b[1;33m,\u001b[0m\u001b[1;36m0.01\u001b[0m\u001b[1;33m,\u001b[0m\u001b[1;36m0.01\u001b[0m\u001b[1;33m,\u001b[0m\u001b[1;36m0.01\u001b[0m\u001b[1;33m,\u001b[0m\u001b[1;36m0.01\u001b[0m\u001b[1;33m,\u001b[0m\u001b[1;36m0.9\u001b[0m\u001b[1;33m]\u001b[0m\u001b[1;33m)\u001b[0m\u001b[1;33m\u001b[0m\u001b[1;33m\u001b[0m\u001b[0m\n\u001b[0m\u001b[0;32m      2\u001b[0m \u001b[0mserver\u001b[0m\u001b[1;33m.\u001b[0m\u001b[0mrun\u001b[0m\u001b[1;33m(\u001b[0m\u001b[0mcontrol_variates_flag\u001b[0m\u001b[1;33m=\u001b[0m\u001b[1;32mTrue\u001b[0m\u001b[1;33m)\u001b[0m\u001b[1;33m\u001b[0m\u001b[1;33m\u001b[0m\u001b[0m\n\u001b[0;32m      3\u001b[0m \u001b[0mserver\u001b[0m\u001b[1;33m.\u001b[0m\u001b[0mlog\u001b[0m\u001b[1;33m\u001b[0m\u001b[1;33m\u001b[0m\u001b[0m\n",
      "\u001b[1;32m<ipython-input-22-018d2e46d717>\u001b[0m in \u001b[0;36m__init__\u001b[1;34m(self, r, P, List, random_list, n, debug)\u001b[0m\n\u001b[0;32m     18\u001b[0m \u001b[1;33m\u001b[0m\u001b[0m\n\u001b[0;32m     19\u001b[0m     \u001b[1;32mdef\u001b[0m \u001b[0m__init__\u001b[0m\u001b[1;33m(\u001b[0m\u001b[0mself\u001b[0m\u001b[1;33m,\u001b[0m\u001b[0mr\u001b[0m\u001b[1;33m=\u001b[0m\u001b[1;36m10\u001b[0m\u001b[1;33m,\u001b[0m \u001b[0mP\u001b[0m\u001b[1;33m=\u001b[0m\u001b[1;33m[\u001b[0m\u001b[1;36m0.01\u001b[0m\u001b[1;33m,\u001b[0m\u001b[1;36m0.01\u001b[0m\u001b[1;33m,\u001b[0m\u001b[1;36m0.01\u001b[0m\u001b[1;33m,\u001b[0m\u001b[1;36m0.01\u001b[0m\u001b[1;33m,\u001b[0m\u001b[1;36m0.01\u001b[0m\u001b[1;33m,\u001b[0m\u001b[1;36m0.01\u001b[0m\u001b[1;33m,\u001b[0m\u001b[1;36m0.01\u001b[0m\u001b[1;33m,\u001b[0m\u001b[1;36m0.01\u001b[0m\u001b[1;33m,\u001b[0m\u001b[1;36m0.01\u001b[0m\u001b[1;33m,\u001b[0m\u001b[1;36m0.01\u001b[0m\u001b[1;33m,\u001b[0m\u001b[1;36m0.9\u001b[0m\u001b[1;33m]\u001b[0m\u001b[1;33m,\u001b[0m \u001b[0mList\u001b[0m\u001b[1;33m=\u001b[0m\u001b[0mlist\u001b[0m\u001b[1;33m(\u001b[0m\u001b[0mrange\u001b[0m\u001b[1;33m(\u001b[0m\u001b[1;36m10\u001b[0m\u001b[1;33m)\u001b[0m\u001b[1;33m)\u001b[0m\u001b[1;33m,\u001b[0m \u001b[0mrandom_list\u001b[0m\u001b[1;33m=\u001b[0m\u001b[1;32mFalse\u001b[0m\u001b[1;33m,\u001b[0m \u001b[0mn\u001b[0m\u001b[1;33m=\u001b[0m\u001b[1;36m10\u001b[0m\u001b[1;33m,\u001b[0m \u001b[0mdebug\u001b[0m\u001b[1;33m=\u001b[0m\u001b[1;32mTrue\u001b[0m\u001b[1;33m)\u001b[0m\u001b[1;33m:\u001b[0m\u001b[1;33m\u001b[0m\u001b[1;33m\u001b[0m\u001b[0m\n\u001b[1;32m---> 20\u001b[1;33m         \u001b[1;32massert\u001b[0m \u001b[0mlen\u001b[0m\u001b[1;33m(\u001b[0m\u001b[0mP\u001b[0m\u001b[1;33m)\u001b[0m\u001b[1;33m==\u001b[0m\u001b[0mlen\u001b[0m\u001b[1;33m(\u001b[0m\u001b[0mList\u001b[0m\u001b[1;33m)\u001b[0m\u001b[1;33m\u001b[0m\u001b[1;33m\u001b[0m\u001b[0m\n\u001b[0m\u001b[0;32m     21\u001b[0m         \u001b[1;31m# The number of requests\u001b[0m\u001b[1;33m\u001b[0m\u001b[1;33m\u001b[0m\u001b[1;33m\u001b[0m\u001b[0m\n\u001b[0;32m     22\u001b[0m         \u001b[0mself\u001b[0m\u001b[1;33m.\u001b[0m\u001b[0mr\u001b[0m\u001b[1;33m=\u001b[0m\u001b[0mr\u001b[0m\u001b[1;33m\u001b[0m\u001b[1;33m\u001b[0m\u001b[0m\n",
      "\u001b[1;31mAssertionError\u001b[0m: "
     ]
    }
   ],
   "source": [
    "server=ListOrdering(P=[0.01,0.01,0.01,0.01,0.01,0.01,0.01,0.01,0.01,0.9])\n",
    "server.run(control_variates_flag=True)\n",
    "server.log"
   ]
  },
  {
   "cell_type": "markdown",
   "metadata": {},
   "source": [
    "This is the record of the position of each item in the list, for example, colomn 0 shows the position of item 0 in each turn, meaning index (3,100) shows the position of 3 in the 100th request. So the table is a $n$x$r$ matrix where n is the number of the items in the list and r is the number of requests."
   ]
  },
  {
   "cell_type": "code",
   "execution_count": 6,
   "metadata": {},
   "outputs": [
    {
     "data": {
      "text/html": [
       "<div>\n",
       "<style scoped>\n",
       "    .dataframe tbody tr th:only-of-type {\n",
       "        vertical-align: middle;\n",
       "    }\n",
       "\n",
       "    .dataframe tbody tr th {\n",
       "        vertical-align: top;\n",
       "    }\n",
       "\n",
       "    .dataframe thead th {\n",
       "        text-align: right;\n",
       "    }\n",
       "</style>\n",
       "<table border=\"1\" class=\"dataframe\">\n",
       "  <thead>\n",
       "    <tr style=\"text-align: right;\">\n",
       "      <th></th>\n",
       "      <th>0</th>\n",
       "      <th>1</th>\n",
       "      <th>2</th>\n",
       "      <th>3</th>\n",
       "      <th>4</th>\n",
       "      <th>5</th>\n",
       "      <th>6</th>\n",
       "      <th>7</th>\n",
       "      <th>8</th>\n",
       "      <th>9</th>\n",
       "    </tr>\n",
       "  </thead>\n",
       "  <tbody>\n",
       "    <tr>\n",
       "      <th>0</th>\n",
       "      <td>0</td>\n",
       "      <td>1</td>\n",
       "      <td>2</td>\n",
       "      <td>3</td>\n",
       "      <td>4</td>\n",
       "      <td>5</td>\n",
       "      <td>6</td>\n",
       "      <td>7</td>\n",
       "      <td>8</td>\n",
       "      <td>9</td>\n",
       "    </tr>\n",
       "    <tr>\n",
       "      <th>1</th>\n",
       "      <td>0</td>\n",
       "      <td>1</td>\n",
       "      <td>2</td>\n",
       "      <td>3</td>\n",
       "      <td>5</td>\n",
       "      <td>4</td>\n",
       "      <td>6</td>\n",
       "      <td>7</td>\n",
       "      <td>8</td>\n",
       "      <td>9</td>\n",
       "    </tr>\n",
       "    <tr>\n",
       "      <th>2</th>\n",
       "      <td>0</td>\n",
       "      <td>1</td>\n",
       "      <td>2</td>\n",
       "      <td>3</td>\n",
       "      <td>6</td>\n",
       "      <td>4</td>\n",
       "      <td>5</td>\n",
       "      <td>7</td>\n",
       "      <td>8</td>\n",
       "      <td>9</td>\n",
       "    </tr>\n",
       "    <tr>\n",
       "      <th>3</th>\n",
       "      <td>0</td>\n",
       "      <td>1</td>\n",
       "      <td>3</td>\n",
       "      <td>2</td>\n",
       "      <td>6</td>\n",
       "      <td>4</td>\n",
       "      <td>5</td>\n",
       "      <td>7</td>\n",
       "      <td>8</td>\n",
       "      <td>9</td>\n",
       "    </tr>\n",
       "    <tr>\n",
       "      <th>4</th>\n",
       "      <td>0</td>\n",
       "      <td>1</td>\n",
       "      <td>2</td>\n",
       "      <td>3</td>\n",
       "      <td>6</td>\n",
       "      <td>4</td>\n",
       "      <td>5</td>\n",
       "      <td>7</td>\n",
       "      <td>8</td>\n",
       "      <td>9</td>\n",
       "    </tr>\n",
       "    <tr>\n",
       "      <th>...</th>\n",
       "      <td>...</td>\n",
       "      <td>...</td>\n",
       "      <td>...</td>\n",
       "      <td>...</td>\n",
       "      <td>...</td>\n",
       "      <td>...</td>\n",
       "      <td>...</td>\n",
       "      <td>...</td>\n",
       "      <td>...</td>\n",
       "      <td>...</td>\n",
       "    </tr>\n",
       "    <tr>\n",
       "      <th>96</th>\n",
       "      <td>0</td>\n",
       "      <td>6</td>\n",
       "      <td>7</td>\n",
       "      <td>9</td>\n",
       "      <td>8</td>\n",
       "      <td>1</td>\n",
       "      <td>2</td>\n",
       "      <td>3</td>\n",
       "      <td>4</td>\n",
       "      <td>5</td>\n",
       "    </tr>\n",
       "    <tr>\n",
       "      <th>97</th>\n",
       "      <td>0</td>\n",
       "      <td>6</td>\n",
       "      <td>7</td>\n",
       "      <td>8</td>\n",
       "      <td>9</td>\n",
       "      <td>1</td>\n",
       "      <td>2</td>\n",
       "      <td>3</td>\n",
       "      <td>4</td>\n",
       "      <td>5</td>\n",
       "    </tr>\n",
       "    <tr>\n",
       "      <th>98</th>\n",
       "      <td>0</td>\n",
       "      <td>6</td>\n",
       "      <td>7</td>\n",
       "      <td>8</td>\n",
       "      <td>9</td>\n",
       "      <td>1</td>\n",
       "      <td>2</td>\n",
       "      <td>3</td>\n",
       "      <td>4</td>\n",
       "      <td>5</td>\n",
       "    </tr>\n",
       "    <tr>\n",
       "      <th>99</th>\n",
       "      <td>0</td>\n",
       "      <td>6</td>\n",
       "      <td>7</td>\n",
       "      <td>8</td>\n",
       "      <td>9</td>\n",
       "      <td>1</td>\n",
       "      <td>2</td>\n",
       "      <td>3</td>\n",
       "      <td>4</td>\n",
       "      <td>5</td>\n",
       "    </tr>\n",
       "    <tr>\n",
       "      <th>100</th>\n",
       "      <td>0</td>\n",
       "      <td>6</td>\n",
       "      <td>7</td>\n",
       "      <td>9</td>\n",
       "      <td>8</td>\n",
       "      <td>1</td>\n",
       "      <td>2</td>\n",
       "      <td>3</td>\n",
       "      <td>4</td>\n",
       "      <td>5</td>\n",
       "    </tr>\n",
       "  </tbody>\n",
       "</table>\n",
       "<p>101 rows × 10 columns</p>\n",
       "</div>"
      ],
      "text/plain": [
       "     0  1  2  3  4  5  6  7  8  9\n",
       "0    0  1  2  3  4  5  6  7  8  9\n",
       "1    0  1  2  3  5  4  6  7  8  9\n",
       "2    0  1  2  3  6  4  5  7  8  9\n",
       "3    0  1  3  2  6  4  5  7  8  9\n",
       "4    0  1  2  3  6  4  5  7  8  9\n",
       "..  .. .. .. .. .. .. .. .. .. ..\n",
       "96   0  6  7  9  8  1  2  3  4  5\n",
       "97   0  6  7  8  9  1  2  3  4  5\n",
       "98   0  6  7  8  9  1  2  3  4  5\n",
       "99   0  6  7  8  9  1  2  3  4  5\n",
       "100  0  6  7  9  8  1  2  3  4  5\n",
       "\n",
       "[101 rows x 10 columns]"
      ]
     },
     "execution_count": 6,
     "metadata": {},
     "output_type": "execute_result"
    }
   ],
   "source": [
    "df=pd.DataFrame(server.position)\n",
    "df"
   ]
  },
  {
   "cell_type": "markdown",
   "metadata": {},
   "source": [
    "while tracking the position of each item of the list is fun, we don't really need it and it is expensive, so we are just  going to track the sum of positions."
   ]
  },
  {
   "cell_type": "code",
   "execution_count": 26,
   "metadata": {},
   "outputs": [
    {
     "name": "stderr",
     "output_type": "stream",
     "text": [
      "100%|████████████████████████████████████████████████████████████████████████████████| 10/10 [00:00<00:00, 1110.46it/s]\n"
     ]
    },
    {
     "data": {
      "text/plain": [
       "[0.0,\n",
       " -0.03648613692357861,\n",
       " -0.06366814400554283,\n",
       " 0.014772959540335336,\n",
       " 0.0018891258054589603,\n",
       " 0.004385889621002711,\n",
       " 0.01629526195932002,\n",
       " 0.021755761684474715,\n",
       " 0.02129351205394626,\n",
       " 0.01976177026458344]"
      ]
     },
     "execution_count": 26,
     "metadata": {},
     "output_type": "execute_result"
    }
   ],
   "source": [
    "server.calcAlpha(10)"
   ]
  },
  {
   "cell_type": "code",
   "execution_count": 30,
   "metadata": {},
   "outputs": [
    {
     "name": "stderr",
     "output_type": "stream",
     "text": [
      "100%|███████████████████████████████████████████████████████████████████████████████████| 1/1 [00:00<00:00, 500.81it/s]\n",
      "100%|████████████████████████████████████████████████████████████████████████████| 1000/1000 [00:00<00:00, 1331.71it/s]\n"
     ]
    }
   ],
   "source": [
    "a=server.simiulate(1,control_variates_flag=True)"
   ]
  },
  {
   "cell_type": "code",
   "execution_count": 31,
   "metadata": {},
   "outputs": [
    {
     "data": {
      "text/plain": [
       "[(0.0, 0.0),\n",
       " (3.7295828469153696, 0.0),\n",
       " (5.628469181705096, 0.0),\n",
       " (7.7023172050552375, 0.0),\n",
       " (7.5934449562436415, 0.0),\n",
       " (1.590509480375755, 0.0),\n",
       " (2.9107161269403115, 0.0),\n",
       " (4.131230323293691, 0.0),\n",
       " (5.251648117307802, 0.0),\n",
       " (6.462081762163096, 0.0)]"
      ]
     },
     "execution_count": 31,
     "metadata": {},
     "output_type": "execute_result"
    }
   ],
   "source": [
    "a"
   ]
  },
  {
   "cell_type": "code",
   "execution_count": 32,
   "metadata": {},
   "outputs": [
    {
     "data": {
      "text/plain": [
       "45.0"
      ]
     },
     "execution_count": 32,
     "metadata": {},
     "output_type": "execute_result"
    }
   ],
   "source": []
  },
  {
   "cell_type": "code",
   "execution_count": 7,
   "metadata": {},
   "outputs": [
    {
     "name": "stderr",
     "output_type": "stream",
     "text": [
      "100%|███████████████████████████████████████████████████████████████████████████| 10000/10000 [00:16<00:00, 589.16it/s]\n"
     ]
    },
    {
     "data": {
      "text/plain": [
       "[(0.0, 0.0),\n",
       " (6.3552, 0.7838329600000001),\n",
       " (7.3753, 0.9674499100000002),\n",
       " (7.9231, 0.90118639),\n",
       " (8.2501, 0.7413499900000001),\n",
       " (1.0002, 0.00019995999999999995),\n",
       " (2.0011, 0.0010987899999999999),\n",
       " (3.0051, 0.0050739900000000004),\n",
       " (4.0244, 0.024004640000000008),\n",
       " (5.0655, 0.06200975000000001)]"
      ]
     },
     "execution_count": 7,
     "metadata": {},
     "output_type": "execute_result"
    }
   ],
   "source": [
    "server.simiulate(10**4,control_variates_flag=False) # only checking the position of each item after r request"
   ]
  },
  {
   "cell_type": "markdown",
   "metadata": {},
   "source": [
    " I actually in this question the mean alone is not that important, the relation of the means are important, meaning we will sort them from min to max and thats our order, how every the variance is a big factor in our confidence with our answer and the overall varience is related to variance of each item's position, we can see that the with control variable our variance is significantly lower although the ordering of the items are the same."
   ]
  },
  {
   "cell_type": "markdown",
   "metadata": {},
   "source": [
    "# Test"
   ]
  },
  {
   "cell_type": "code",
   "execution_count": 68,
   "metadata": {},
   "outputs": [
    {
     "data": {
      "text/plain": [
       "[0, 0]"
      ]
     },
     "execution_count": 68,
     "metadata": {},
     "output_type": "execute_result"
    }
   ],
   "source": [
    "a=dict((i,[0,0]) for i in range(10))\n",
    "a[1]"
   ]
  }
 ],
 "metadata": {
  "kernelspec": {
   "display_name": "Python 3",
   "language": "python",
   "name": "python3"
  },
  "language_info": {
   "codemirror_mode": {
    "name": "ipython",
    "version": 3
   },
   "file_extension": ".py",
   "mimetype": "text/x-python",
   "name": "python",
   "nbconvert_exporter": "python",
   "pygments_lexer": "ipython3",
   "version": "3.7.4"
  }
 },
 "nbformat": 4,
 "nbformat_minor": 4
}
